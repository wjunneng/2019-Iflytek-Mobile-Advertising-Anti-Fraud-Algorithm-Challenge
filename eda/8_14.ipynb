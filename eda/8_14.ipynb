{
 "cells": [
  {
   "cell_type": "code",
   "execution_count": 2,
   "metadata": {
    "collapsed": true,
    "pycharm": {
     "is_executing": false
    }
   },
   "outputs": [
    {
     "name": "stdout",
     "text": [
      "<class 'pandas.core.frame.DataFrame'>\nRangeIndex: 1000000 entries, 0 to 999999\nData columns (total 29 columns):\nsid             1000000 non-null object\nlabel           1000000 non-null int64\npkgname         1000000 non-null object\nver             678176 non-null object\nadunitshowid    1000000 non-null object\nmediashowid     1000000 non-null object\napptype         1000000 non-null float64\nnginxtime       1000000 non-null float64\nip              1000000 non-null object\ncity            984807 non-null object\nprovince        1000000 non-null float64\nreqrealip       1000000 non-null object\nadidmd5         1000000 non-null object\nimeimd5         1000000 non-null object\nidfamd5         1000000 non-null object\nopenudidmd5     1000000 non-null object\nmacmd5          1000000 non-null object\ndvctype         1000000 non-null float64\nmodel           995533 non-null object\nmake            876161 non-null object\nntt             1000000 non-null float64\ncarrier         1000000 non-null float64\nos              1000000 non-null object\nosv             987003 non-null object\norientation     1000000 non-null float64\nlan             632473 non-null object\nh               1000000 non-null float64\nw               1000000 non-null float64\nppi             1000000 non-null float64\ndtypes: float64(10), int64(1), object(18)\nmemory usage: 221.3+ MB\n"
     ],
     "output_type": "stream"
    }
   ],
   "source": [
    "import pandas as pd\n",
    "\n",
    "# 项目路径\n",
    "project_path = '/home/wjunneng/Python/2019-Iflytek-Mobile-Advertising-Anti-Fraud-Algorithm-Challenge'\n",
    "# round1_iflyad_anticheat_testdata_feature.txt文件路径\n",
    "testdata_feature_path = project_path + '/data/original/round1_iflyad_anticheat_testdata_feature.txt'\n",
    "# round1_iflyad_anticheat_traindata.txt文件路径\n",
    "traindata_path = project_path + '/data/original/round1_iflyad_anticheat_traindata.txt'\n",
    "\n",
    "def get_testdata_feature(**params):\n",
    "    \"\"\"\n",
    "    返回 testdata_feature 文件内容\n",
    "    :param params:\n",
    "    :return:\n",
    "    \"\"\"\n",
    "    testdata_feature_data = pd.read_table(testdata_feature_path, sep='\\t')\n",
    "\n",
    "    return testdata_feature_data\n",
    "\n",
    "\n",
    "def get_traindata(**params):\n",
    "    \"\"\"\n",
    "    返回 traindata 文件内容\n",
    "    :param params:\n",
    "    :return:\n",
    "    \"\"\"\n",
    "    traindata_data = pd.read_table(traindata_path, sep='\\t')\n",
    "\n",
    "    return traindata_data\n",
    "\n",
    "\n",
    "testdata_feature = get_testdata_feature()\n",
    "traindata = get_traindata()\n",
    "traindata.info()\n",
    "\n"
   ]
  },
  {
   "cell_type": "code",
   "execution_count": null,
   "outputs": [],
   "source": [
    "traindata.columns\n",
    "\n"
   ],
   "metadata": {
    "collapsed": false,
    "pycharm": {
     "name": "#%%\n"
    }
   }
  },
  {
   "cell_type": "code",
   "execution_count": null,
   "outputs": [],
   "source": [
    "# 包名 经过MD5码 加密 【有重复值，有空值，建议one-hot】\n",
    "print(traindata['pkgname'].unique())\n",
    "print('\\n')\n",
    "\n",
    "# app版本 【很杂，建议剔除】\n",
    "print(traindata['ver'].describe())\n",
    "print('\\n')\n",
    "\n",
    "# 对外广告位 （广告显示的位置）【有重复值，无空值，建议one-hot】\n",
    "print(traindata['adunitshowid'].describe())\n",
    "print('\\n')\n",
    "\n",
    "# 对外媒体ID  【有重复值，无空值，建议one-hot】\n",
    "print(traindata['mediashowid'].describe())\n",
    "print('\\n')\n",
    "\n",
    "\n"
   ],
   "metadata": {
    "collapsed": false,
    "pycharm": {
     "name": "#%%\n"
    }
   }
  },
  {
   "cell_type": "code",
   "execution_count": 9,
   "outputs": [
    {
     "name": "stdout",
     "text": [
      "301.0    202453\n336.0     94193\n326.0     80297\n221.0     79289\n318.0     72702\n          ...  \n274.0         1\n297.0         1\n253.0         1\n311.0         1\n203.0         1\nName: apptype, Length: 91, dtype: int64\n\n\n"
     ],
     "output_type": "stream"
    }
   ],
   "source": [
    "###############################################################################\n",
    "# app所属分类  【有重复值，无空值，建议one-hot】\n",
    "print(traindata['apptype'].value_counts())\n",
    "print('\\n')\n",
    "# app所属分类  【有重复值，无空值，建议one-hot】\n",
    "print(testdata_feature['apptype'].value_counts())\n",
    "print('\\n')\n",
    "\n",
    "def deal_apptype(df, **params):\n",
    "    \"\"\"\n",
    "    处理apptype\n",
    "    :param df: \n",
    "    :param params: \n",
    "    :return: \n",
    "    \"\"\"\n",
    "    df['apptype'] = df['apptype'].apply(lambda x: str(x))\n",
    "    \n",
    "    return df\n",
    "\n",
    "# app所属分类  【有重复值，无空值，建议one-hot】\n",
    "print(traindata['apptype'].value_counts())\n",
    "print('\\n')\n",
    "# app所属分类  【有重复值，无空值，建议one-hot】\n",
    "print(testdata_feature['apptype'].value_counts())\n",
    "print('\\n')\n",
    "###############################################################################\n",
    "\n"
   ],
   "metadata": {
    "collapsed": false,
    "pycharm": {
     "name": "#%%\n",
     "is_executing": false
    }
   }
  },
  {
   "cell_type": "code",
   "execution_count": null,
   "outputs": [],
   "source": [
    "# 请求到达服务时间\n",
    "print(traindata['nginxtime'].unique())\n",
    "print(traindata['nginxtime'].loc[0:3])\n",
    "print('\\n')\n",
    "\n",
    "\n"
   ],
   "metadata": {
    "collapsed": false,
    "pycharm": {
     "name": "#%%\n"
    }
   }
  },
  {
   "cell_type": "code",
   "execution_count": 7,
   "outputs": [
    {
     "name": "stdout",
     "text": [
      "183.224.14.4      226\n183.224.14.3      205\n183.224.14.14     180\n127.0.0.1         147\n58.62.203.167     129\n                 ... \n110.246.42.41       1\n115.51.217.19       1\n112.3.70.232        1\n60.26.10.198        1\n39.181.189.138      1\nName: ip, Length: 747676, dtype: int64\n\n\n58.62.204.11       55\n183.224.14.3       26\n183.224.14.4       26\n125.77.22.197      17\n183.224.14.14      15\n                   ..\n117.166.216.152     1\n27.29.226.9         1\n115.63.125.81       1\n106.8.250.213       1\n106.43.203.112      1\nName: ip, Length: 90931, dtype: int64\n\n\n"
     ],
     "output_type": "stream"
    }
   ],
   "source": [
    "# 客户端IP地址\n",
    "print(traindata['ip'].value_counts())\n",
    "print('\\n')\n",
    "# 客户端IP地址\n",
    "print(testdata_feature['ip'].value_counts())\n",
    "print('\\n')\n",
    "\n"
   ],
   "metadata": {
    "collapsed": false,
    "pycharm": {
     "name": "#%%\n",
     "is_executing": false
    }
   }
  },
  {
   "cell_type": "code",
   "execution_count": null,
   "outputs": [],
   "source": [
    "###############################################################################\n",
    "# 城市\n",
    "print(traindata['city'].unique())\n",
    "print('\\n')\n",
    "\n",
    "# 省份\n",
    "print(traindata['province'].unique())\n",
    "print('\\n')\n",
    "\n",
    "\n",
    "def deal_city_province(df, **params):\n",
    "    \"\"\"\n",
    "    处理城市和省份\n",
    "    :param df: \n",
    "    :param params: \n",
    "    :return: \n",
    "    \"\"\"\n",
    "    import json\n",
    "    # 中国省市编码地址\n",
    "    china_city_list_path = project_path + '/data/foreign/china_city_list.json'\n",
    "    \n",
    "    # 省\n",
    "    provinces = {}\n",
    "    \n",
    "    # 市\n",
    "    cities = {}\n",
    "\n",
    "    # 读取json\n",
    "    with open(china_city_list_path, 'r') as file:\n",
    "        # 读取所有省市数据\n",
    "        china_city_list = json.load(file)\n",
    "            \n",
    "        for province in china_city_list:\n",
    "            # key:province/value:code\n",
    "            provinces[province['province']] = province['code']\n",
    "            \n",
    "            for city in province['cities']:\n",
    "                # key:city/value:code\n",
    "                cities[city['name']] = city['code']\n",
    "    \n",
    "    china_city_list = df['city']\n",
    "    china_city_list = china_city_list.fillna(0)\n",
    "    \n",
    "    china_city_list_code = []\n",
    "    china_province_list_code = []\n",
    "    \n",
    "    # 遍历获取code\n",
    "    for city in china_city_list.values:\n",
    "        # 是否在provinces中\n",
    "        if city in dict.fromkeys(provinces.keys(), True):\n",
    "            tmp = provinces[city]\n",
    "            china_city_list_code.append(tmp)\n",
    "            china_province_list_code.append(tmp[:2])\n",
    "            \n",
    "        # 是否在cities中\n",
    "        elif city in dict.fromkeys(cities.keys(), True):\n",
    "            tmp = cities[city]\n",
    "            china_city_list_code.append(tmp)\n",
    "            china_province_list_code.append(tmp[:2])\n",
    "        \n",
    "        # 不存在    \n",
    "        else:\n",
    "            china_city_list_code.append('100000')\n",
    "            china_province_list_code.append('10')\n",
    "            \n",
    "            if city != 0:\n",
    "                print(city)\n",
    "    \n",
    "    # 替换\n",
    "    df['city'] = china_city_list_code\n",
    "    df['province'] = china_province_list_code\n",
    "                \n",
    "    return df\n",
    "    \n",
    "traindata = deal_city_province(traindata)\n",
    "\n",
    "# 城市\n",
    "print(traindata['city'].unique())\n",
    "print('\\n')\n",
    "\n",
    "# 省份\n",
    "print(traindata['province'].unique())\n",
    "print('\\n')\n",
    "###############################################################################\n",
    "\n",
    "\n"
   ],
   "metadata": {
    "collapsed": false,
    "pycharm": {
     "name": "#%%\n"
    }
   }
  },
  {
   "cell_type": "code",
   "execution_count": null,
   "outputs": [],
   "source": [
    "# 请求的http协议头携带IP，有可能是下游服务器的ip\n",
    "print(traindata['reqrealip'].unique())\n",
    "print('\\n')\n",
    "\n",
    "\n"
   ],
   "metadata": {
    "collapsed": false,
    "pycharm": {
     "name": "#%%\n"
    }
   }
  },
  {
   "cell_type": "code",
   "execution_count": null,
   "outputs": [],
   "source": [
    "# Adroid ID的MD5值\n",
    "print(traindata['adidmd5'].unique())\n",
    "print('\\n')\n",
    "\n",
    "# imei的MD5值  移动设备国际识别码，是手机设备的唯一识别号码\n",
    "print(traindata['imeimd5'].unique())\n",
    "print('\\n')\n",
    "\n",
    "\n"
   ],
   "metadata": {
    "collapsed": false,
    "pycharm": {
     "name": "#%%\n"
    }
   }
  },
  {
   "cell_type": "code",
   "execution_count": null,
   "outputs": [],
   "source": [
    "###############################################################################\n",
    "# idfa的MD5值\n",
    "print(traindata['idfamd5'].value_counts())\n",
    "print('\\n')\n",
    "\n",
    "# idfa的MD5值\n",
    "print(testdata_feature['idfamd5'].value_counts())\n",
    "print('\\n')\n",
    "\n",
    "def deal_idfamd5(df, **params):\n",
    "    \"\"\"\n",
    "    处理idfamd5\n",
    "    :param df: \n",
    "    :param params: \n",
    "    :return: \n",
    "    \"\"\"    \n",
    "    del df['idfamd5']\n",
    "    \n",
    "    return df\n",
    "    \n",
    "\n",
    "# idfa的MD5值\n",
    "print(traindata['idfamd5'].unique())\n",
    "print('\\n')\n",
    "\n",
    "# idfa的MD5值\n",
    "print(testdata_feature['idfamd5'].unique())\n",
    "print('\\n')\n",
    "###############################################################################\n",
    "\n"
   ],
   "metadata": {
    "collapsed": false,
    "pycharm": {
     "name": "#%%\n"
    }
   }
  },
  {
   "cell_type": "code",
   "execution_count": null,
   "outputs": [],
   "source": [
    "# openudid的MD5值\n",
    "print(traindata['openudidmd5'].unique())\n",
    "print('\\n')\n",
    "\n",
    "# mac的MD5值\n",
    "print(traindata['macmd5'].unique())\n",
    "print('\\n')\n",
    "\n",
    "\n"
   ],
   "metadata": {
    "collapsed": false,
    "pycharm": {
     "name": "#%%\n"
    }
   }
  },
  {
   "cell_type": "code",
   "execution_count": null,
   "outputs": [],
   "source": [
    "###############################################################################\n",
    "# 设备类型 0 – 未知,1 – PC,2 – 手机, 3– 平板,4– 电视盒,5– 智能电视,6 – 可穿戴设备,7 – 智能家电,8 - 音箱,9 - 智能硬件\n",
    "print(traindata['dvctype'].value_counts())\n",
    "print('\\n')\n",
    "print(testdata_feature['dvctype'].value_counts())\n",
    "print('\\n')\n",
    "\n",
    "def deal_dvctype(df, **params):\n",
    "    \"\"\"\n",
    "    返回设备类型\n",
    "    :param df: \n",
    "    :param params: \n",
    "    :return: \n",
    "    \"\"\"\n",
    "    df['dvctype'] = df['dvctype'].apply(lambda x: str(x))\n",
    "    \n",
    "    return df\n",
    "\n",
    "traindata = deal_dvctype(traindata)\n",
    "testdata_feature = deal_dvctype(testdata_feature)\n",
    "\n",
    "print(traindata['dvctype'].value_counts())\n",
    "print('\\n')\n",
    "print(testdata_feature['dvctype'].value_counts())\n",
    "print('\\n')\n",
    "###############################################################################\n",
    "\n"
   ],
   "metadata": {
    "collapsed": false,
    "pycharm": {
     "name": "#%%\n"
    }
   }
  },
  {
   "cell_type": "code",
   "execution_count": 10,
   "outputs": [
    {
     "name": "stdout",
     "text": [
      "PBAM00             26578\nPACM00             23539\nPBEM00             22510\nPADM00             14363\nVIVO X21A          13293\n                   ...  \nMEITU%20M4S            1\nLGM-X600K              1\nOPSSON_V6              1\nLG-M250                1\nLENOVO A5500-HV        1\nName: model, Length: 7719, dtype: int64\n\n\n"
     ],
     "output_type": "stream"
    }
   ],
   "source": [
    "# 机型\n",
    "print(traindata['model'].value_counts())\n",
    "print('\\n')\n",
    "\n",
    "\n"
   ],
   "metadata": {
    "collapsed": false,
    "pycharm": {
     "name": "#%%\n",
     "is_executing": false
    }
   }
  },
  {
   "cell_type": "code",
   "execution_count": 11,
   "outputs": [
    {
     "name": "stdout",
     "text": [
      "OPPO        250359\nvivo        207547\nHUAWEI      126195\nXiaomi       48005\nHONOR        45321\n             ...  \nNX541J           1\nM2               1\nOPPO A33         1\nzh-c             1\nLeneo            1\nName: make, Length: 2620, dtype: int64\n\n\n"
     ],
     "output_type": "stream"
    }
   ],
   "source": [
    "# 厂商\n",
    "print(traindata['make'].value_counts())\n",
    "print('\\n')\n",
    "\n",
    "\n"
   ],
   "metadata": {
    "collapsed": false,
    "pycharm": {
     "name": "#%%\n",
     "is_executing": false
    }
   }
  },
  {
   "cell_type": "code",
   "execution_count": null,
   "outputs": [],
   "source": [
    "###############################################################################\n",
    "# 网络类型 0-未知, 1-有线网, 2-WIFI, 3-蜂窝网络未知, 4-2G, 5-3G, 6–4G\n",
    "# 构造特征： 0-未知/1-有线网络/2-无线网络\n",
    "print(traindata['ntt'].value_counts())\n",
    "print('\\n')\n",
    "\n",
    "print(testdata_feature['ntt'].value_counts())\n",
    "print('\\n')\n",
    "\n",
    "def deal_ntt(df, **params):\n",
    "    \"\"\"\n",
    "    处理ntt\n",
    "    :param df: \n",
    "    :param params: \n",
    "    :return: \n",
    "    \"\"\"\n",
    "    df['ntt'] = df['ntt'].apply(lambda x: str(x))\n",
    "    df['ntt_type'] = df['ntt'].apply(lambda x: str(2) if int(float(x)) in [2, 3, 4, 5, 6, 7] else x)\n",
    "    \n",
    "    return df\n",
    "\n",
    "traindata = deal_ntt(traindata)\n",
    "testdata_feature = deal_ntt(testdata_feature)\n",
    "\n",
    "print(traindata['ntt'].value_counts())\n",
    "print('\\n')\n",
    "\n",
    "print(testdata_feature['ntt'].value_counts())\n",
    "print('\\n')\n",
    "\n",
    "print(traindata['ntt_type'].value_counts())\n",
    "print('\\n')\n",
    "\n",
    "print(testdata_feature['ntt_type'].value_counts())\n",
    "print('\\n')\n",
    "###############################################################################\n",
    "\n",
    "\n"
   ],
   "metadata": {
    "collapsed": false,
    "pycharm": {
     "name": "#%%\n"
    }
   }
  },
  {
   "cell_type": "code",
   "execution_count": null,
   "outputs": [],
   "source": [
    "###############################################################################\n",
    "# 运营商 0-未知, 46000-移动, 46001-联通, 46003-电信 【-1-中国广电？46002/46005/46006/46007...】\n",
    "print(traindata['carrier'].value_counts())\n",
    "print('\\n')\n",
    "\n",
    "print(testdata_feature['carrier'].value_counts())\n",
    "print('\\n')\n",
    "\n",
    "def deal_carrier(df, **params):\n",
    "    \"\"\"\n",
    "    处理运营商\n",
    "    :param df: \n",
    "    :param params: \n",
    "    :return: \n",
    "    \"\"\"\n",
    "    df['carrier'] = df['carrier'].apply(lambda x: str(1) if int(x) == 0 else x)\n",
    "    df['carrier'] = df['carrier'].apply(lambda x: str(2) if int(x) == 46000 else x)\n",
    "    df['carrier'] = df['carrier'].apply(lambda x: str(3) if int(x) == 46001 else x)\n",
    "    df['carrier'] = df['carrier'].apply(lambda x: str(4) if int(x) == 46003 else x)\n",
    "    df['carrier'] = df['carrier'].apply(lambda x: str(5) if str(x) not in [str(1), str(2), str(3), str(4)] else x)\n",
    "    \n",
    "    return df\n",
    "    \n",
    "traindata = deal_carrier(traindata)\n",
    "testdata_feature = deal_carrier(testdata_feature)\n",
    "    \n",
    "# 运营商 0-未知, 46000-移动, 46001-联通, 46003-电信 【-1-中国广电？】\n",
    "print(traindata['carrier'].value_counts())\n",
    "print('\\n')\n",
    "\n",
    "print(testdata_feature['carrier'].value_counts())\n",
    "print('\\n')\n",
    "###############################################################################\n",
    "\n"
   ],
   "metadata": {
    "collapsed": false,
    "pycharm": {
     "name": "#%%\n"
    }
   }
  },
  {
   "cell_type": "code",
   "execution_count": null,
   "outputs": [],
   "source": [
    "###############################################################################\n",
    "# 操作系统 : Android, iOS\n",
    "print(traindata['os'].unique())\n",
    "print('\\n')\n",
    "\n",
    "# 操作系统 \n",
    "print(testdata_feature['os'].unique())\n",
    "print('\\n')\n",
    "\n",
    "def deal_os(df, **params):\n",
    "    \"\"\"\n",
    "    处理操作系统\n",
    "    :param df: \n",
    "    :param params: \n",
    "    :return: \n",
    "    \"\"\"\n",
    "    if 'os' in df.columns:\n",
    "        # 先将所有值转化为小写\n",
    "        df['os'] = df['os'].apply(lambda x: x.lower())\n",
    "        # 如果所有值都相同，则剔除\n",
    "        if len(set(df['os'])) is 1:\n",
    "            del df['os']\n",
    "    \n",
    "    return df\n",
    "    \n",
    "traindata = deal_os(traindata)\n",
    "\n",
    "# 操作系统\n",
    "print(traindata.columns)\n",
    "print('\\n')\n",
    "\n",
    "testdata_feature = deal_os(testdata_feature)\n",
    "\n",
    "# 操作系统\n",
    "print(testdata_feature.columns)\n",
    "print('\\n')\n",
    "###############################################################################\n",
    "\n",
    "\n"
   ],
   "metadata": {
    "collapsed": false,
    "pycharm": {
     "name": "#%%\n"
    }
   }
  },
  {
   "cell_type": "code",
   "execution_count": 12,
   "outputs": [
    {
     "name": "stdout",
     "text": [
      "8.1.0                      302798\n9                          142513\n6.0.1                       63544\n7.1.1                       53333\n9.0.0                       48821\n                            ...  \n5,0                             1\n3.2.0-FL2-20180726.9015         1\n9.1.0                           1\n1.0.0                           1\n2.1                             1\nName: osv, Length: 180, dtype: int64\n\n\n"
     ],
     "output_type": "stream"
    }
   ],
   "source": [
    "# 操作系统版本\n",
    "print(traindata['osv'].value_counts())\n",
    "print('\\n')\n",
    "\n",
    "\n",
    "\n"
   ],
   "metadata": {
    "collapsed": false,
    "pycharm": {
     "name": "#%%\n",
     "is_executing": false
    }
   }
  },
  {
   "cell_type": "code",
   "execution_count": null,
   "outputs": [],
   "source": [
    "###############################################################################\n",
    "# 横竖屏:0竖屏，1横屏\n",
    "print(traindata['orientation'].unique())\n",
    "print('\\n')\n",
    "\n",
    "# 横竖屏:0竖屏，1横屏\n",
    "print(testdata_feature['orientation'].unique())\n",
    "print('\\n')\n",
    "\n",
    "# train 中orientation为90的仅有一条数据为0，其余结为1 \n",
    "\n",
    "# (1, 28)\n",
    "train_2 = traindata[traindata.orientation.astype(int) == 2]\n",
    "print(train_2.shape)\n",
    "# (0, 27)\n",
    "test_2 = testdata_feature[traindata.orientation.astype(int) == 2] \n",
    "print(test_2.shape)\n",
    "# (110, 28)\n",
    "train_90 = traindata[traindata.orientation.astype(int) == 90] \n",
    "print(train_90.shape)\n",
    "# (15, 27)\n",
    "test_90 = testdata_feature[traindata.orientation.astype(int) == 90] \n",
    "print(test_90.shape)\n",
    "\n",
    "def deal_orientation(df, **params):\n",
    "    \"\"\"\n",
    "    剔除非0和1的数据 【即非横/竖屏的数据】\n",
    "    :param df: \n",
    "    :param params: \n",
    "    :return: \n",
    "    \"\"\"\n",
    "    df = df[(df['orientation'].astype(int) == 0) | (df['orientation'].astype(int) == 1) | (df['orientation'].astype(int) == 90)]\n",
    "    \n",
    "    return df\n",
    "\n",
    "traindata = deal_orientation(traindata)\n",
    "testdata_feature = deal_orientation(testdata_feature)\n",
    "\n",
    "# 横竖屏:0竖屏，1横屏\n",
    "print(traindata['orientation'].unique())\n",
    "print('\\n')\n",
    "\n",
    "# 横竖屏:0竖屏，1横屏\n",
    "print(testdata_feature['orientation'].unique())\n",
    "print('\\n')\n",
    "###############################################################################\n",
    "\n",
    "\n"
   ],
   "metadata": {
    "collapsed": false,
    "pycharm": {
     "name": "#%%\n"
    }
   }
  },
  {
   "cell_type": "code",
   "execution_count": null,
   "outputs": [],
   "source": [
    "###############################################################################\n",
    "# 语言\n",
    "print(traindata['lan'].value_counts())\n",
    "print('\\n')\n",
    "\n",
    "print(testdata_feature['lan'].value_counts())\n",
    "print('\\n')\n",
    "\n",
    "# print(traindata[traindata['lan'] == 'en'][['label', 'province', 'city']])\n",
    "\n",
    "def deal_lan(df, **params):\n",
    "    \"\"\"\n",
    "    处理语言\n",
    "    :param df: \n",
    "    :param params: \n",
    "    :return: \n",
    "    \"\"\"\n",
    "    df['lan'] = df['lan'].fillna(0)\n",
    "    \n",
    "    df['lan'] = df['lan'].apply(lambda x: str(x).lower())\n",
    "    # 优先处理cn: 1\n",
    "    df['lan'] = df['lan'].apply(lambda x: '1' if 'cn' in str(x) else x)\n",
    "    # 处理tw： 2\n",
    "    df['lan'] = df['lan'].apply(lambda x: '2' if 'tw' in str(x) else x)\n",
    "    # 处理hk: 2\n",
    "    df['lan'] = df['lan'].apply(lambda x: '2' if 'hk' in str(x) else x)\n",
    "    # 处理en: 3\n",
    "    df['lan'] = df['lan'].apply(lambda x: '3' if 'en' in str(x) else x)\n",
    "    # 处理zh: 1\n",
    "    df['lan'] = df['lan'].apply(lambda x: '1' if 'zh' in str(x) else x)\n",
    "    # 其他： 4\n",
    "    df['lan'] = df['lan'].apply(lambda x: '4' if not x in ['0', '1', '2', '3'] else x)\n",
    "    \n",
    "    return df\n",
    "\n",
    "# 处理语言\n",
    "traindata = deal_lan(traindata)\n",
    "testdata_feature = testdata_feature(testdata_feature)\n",
    "\n",
    "print(traindata['lan'].value_counts())\n",
    "print('\\n')\n",
    "\n",
    "print(testdata_feature['lan'].value_counts())\n",
    "print('\\n')\n",
    "###############################################################################\n",
    "\n",
    "\n"
   ],
   "metadata": {
    "collapsed": false,
    "pycharm": {
     "name": "#%%\n"
    }
   }
  },
  {
   "cell_type": "code",
   "execution_count": 19,
   "outputs": [
    {
     "name": "stdout",
     "text": [
      "0.139995    214447\n0.212679    134323\n0.084118     77156\n0.141749     63905\n0.259226     58908\n             ...  \n0.100964         1\n0.142192         1\n0.145960         1\n0.242935         1\n0.000000         1\nName: h, Length: 953, dtype: int64\n\n\n0.114776    419853\n0.072779    214440\n0.034544    154019\n0.074660    125985\n0.038222     12651\n             ...  \n0.130934         1\n0.313127         1\n0.102741         1\n0.037999         1\n0.050591         1\nName: w, Length: 441, dtype: int64\n\n\n0.098387    767256\n0.666203    117296\n0.002782     47016\n0.001391     25973\n0.443672     16750\n             ...  \n0.586926         1\n0.383866         1\n0.639777         1\n0.584145         1\n0.545202         1\nName: ppi, Length: 115, dtype: int64\n\n\n",
      "0.139423    214447\n0.212155    134323\n0.083509     77156\n0.141178     63905\n0.258734     58908\n             ...  \n0.071642         1\n0.051458         1\n0.091827         1\n0.052900         1\n0.040146         1\nName: h, Length: 953, dtype: int64\n\n\n0.106613    419853\n0.064229    214440\n0.025641    154019\n0.066127    125985\n0.029352     12651\n             ...  \n0.219748         1\n0.009109         1\n0.146424         1\n0.316689         1\n0.000000         1\nName: w, Length: 441, dtype: int64\n\n\n0.097131    767256\n0.665738    117296\n0.001393     47016\n0.000000     25973\n0.442897     16750\n             ...  \n0.370474         1\n0.832869         1\n0.321727         1\n0.538997         1\n0.555710         1\nName: ppi, Length: 115, dtype: int64\n\n\n"
     ],
     "output_type": "stream"
    }
   ],
   "source": [
    "###############################################################################\n",
    "# 设备高\n",
    "print(traindata['h'].value_counts())\n",
    "print('\\n')\n",
    "\n",
    "# 设备宽\n",
    "print(traindata['w'].value_counts())\n",
    "print('\\n')\n",
    "\n",
    "# 屏幕密度\n",
    "print(traindata['ppi'].value_counts())\n",
    "print('\\n')\n",
    "\n",
    "\n",
    "def deal_h_w_ppi(df, fillna_type, **params):\n",
    "    \"\"\"\n",
    "    处理宽高/密度\n",
    "    :param df: \n",
    "    :param params: \n",
    "    :return: \n",
    "    \"\"\"\n",
    "    import numpy as np\n",
    "    \n",
    "    if fillna_type is 'mean':\n",
    "        # 利用均值填充\n",
    "        df['h'].replace(0, df['h'].mean(), inplace=True)\n",
    "        df['w'].replace(0, df['w'].mean(), inplace=True)\n",
    "        df['ppi'].replace(0, df['ppi'].mean(), inplace=True)\n",
    "    \n",
    "    elif fillna_type is 'median':\n",
    "        # 利用均值填充\n",
    "        df['h'].replace(0, df['h'].median(), inplace=True)\n",
    "        df['w'].replace(0, df['w'].median(), inplace=True)\n",
    "        df['ppi'].replace(0, df['ppi'].median(), inplace=True)\n",
    "        \n",
    "    else:\n",
    "        # 利用众数填充\n",
    "        df['h'].replace(0, df['h'].mode().max(), inplace=True)\n",
    "        df['w'].replace(0, df['w'].mode().max(), inplace=True)\n",
    "        df['ppi'].replace(0, df['ppi'].mode().max(), inplace=True)\n",
    "    \n",
    "    # 添加面积列\n",
    "    df['area'] = df['h'] * df['w']\n",
    "    \n",
    "    # 添加宽高列\n",
    "    df['aspect_ratio'] = df['h'] / df['w']\n",
    "    \n",
    "    # 归一化函数\n",
    "    max_min_scaler = lambda x : (x-np.min(x))/(np.max(x)-np.min(x))\n",
    "\n",
    "    df['h'] = df[['h']].apply(max_min_scaler)\n",
    "    df['w'] = df[['w']].apply(max_min_scaler)\n",
    "    df['ppi'] = df[['ppi']].apply(max_min_scaler)\n",
    "    \n",
    "    return df\n",
    "\n",
    "traindata = deal_h_w_ppi(traindata, 'mean')\n",
    "testdata_feature = deal_h_w_ppi(testdata_feature, 'mean')\n",
    "\n",
    "\n",
    "# 设备高\n",
    "print(traindata['h'].value_counts())\n",
    "print('\\n')\n",
    "\n",
    "# 设备宽\n",
    "print(traindata['w'].value_counts())\n",
    "print('\\n')\n",
    "\n",
    "# 屏幕密度\n",
    "print(traindata['ppi'].value_counts())\n",
    "print('\\n')\n",
    "###############################################################################"
   ],
   "metadata": {
    "collapsed": false,
    "pycharm": {
     "name": "#%%\n",
     "is_executing": false
    }
   }
  },
  {
   "cell_type": "code",
   "execution_count": null,
   "outputs": [],
   "source": [
    "\n"
   ],
   "metadata": {
    "collapsed": false,
    "pycharm": {
     "name": "#%%\n"
    }
   }
  }
 ],
 "metadata": {
  "language_info": {
   "codemirror_mode": {
    "name": "ipython",
    "version": 2
   },
   "file_extension": ".py",
   "mimetype": "text/x-python",
   "name": "python",
   "nbconvert_exporter": "python",
   "pygments_lexer": "ipython2",
   "version": "2.7.6"
  },
  "kernelspec": {
   "name": "pycharm-e50da876",
   "language": "python",
   "display_name": "PyCharm (ForecastScore)"
  },
  "pycharm": {
   "stem_cell": {
    "cell_type": "raw",
    "source": [],
    "metadata": {
     "collapsed": false
    }
   }
  }
 },
 "nbformat": 4,
 "nbformat_minor": 0
}