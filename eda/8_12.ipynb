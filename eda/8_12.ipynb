{
 "cells": [
  {
   "cell_type": "code",
   "execution_count": 24,
   "outputs": [
    {
     "name": "stdout",
     "text": [
      "<class 'pandas.core.frame.DataFrame'>\nRangeIndex: 1000000 entries, 0 to 999999\nData columns (total 29 columns):\nsid             1000000 non-null object\nlabel           1000000 non-null int64\npkgname         1000000 non-null object\nver             678176 non-null object\nadunitshowid    1000000 non-null object\nmediashowid     1000000 non-null object\napptype         1000000 non-null float64\nnginxtime       1000000 non-null float64\nip              1000000 non-null object\ncity            984807 non-null object\nprovince        1000000 non-null float64\nreqrealip       1000000 non-null object\nadidmd5         1000000 non-null object\nimeimd5         1000000 non-null object\nidfamd5         1000000 non-null object\nopenudidmd5     1000000 non-null object\nmacmd5          1000000 non-null object\ndvctype         1000000 non-null float64\nmodel           995533 non-null object\nmake            876161 non-null object\nntt             1000000 non-null float64\ncarrier         1000000 non-null float64\nos              1000000 non-null object\nosv             987003 non-null object\norientation     1000000 non-null float64\nlan             632473 non-null object\nh               1000000 non-null float64\nw               1000000 non-null float64\nppi             1000000 non-null float64\ndtypes: float64(10), int64(1), object(18)\nmemory usage: 221.3+ MB\n"
     ],
     "output_type": "stream"
    }
   ],
   "source": [
    "import pandas as pd\n",
    "\n",
    "# 项目路径\n",
    "project_path = '/home/wjunneng/Python/2019-Iflytek-Mobile-Advertising-Anti-Fraud-Algorithm-Challenge'\n",
    "# round1_iflyad_anticheat_testdata_feature.txt文件路径\n",
    "testdata_feature_path = project_path + '/data/original/round1_iflyad_anticheat_testdata_feature.txt'\n",
    "# round1_iflyad_anticheat_traindata.txt文件路径\n",
    "traindata_path = project_path + '/data/original/round1_iflyad_anticheat_traindata.txt'\n",
    "\n",
    "def get_testdata_feature(**params):\n",
    "    \"\"\"\n",
    "    返回 testdata_feature 文件内容\n",
    "    :param params:\n",
    "    :return:\n",
    "    \"\"\"\n",
    "    testdata_feature_data = pd.read_table(testdata_feature_path, sep='\\t')\n",
    "\n",
    "    return testdata_feature_data\n",
    "\n",
    "\n",
    "def get_traindata(**params):\n",
    "    \"\"\"\n",
    "    返回 traindata 文件内容\n",
    "    :param params:\n",
    "    :return:\n",
    "    \"\"\"\n",
    "    traindata_data = pd.read_table(traindata_path, sep='\\t')\n",
    "\n",
    "    return traindata_data\n",
    "\n",
    "\n",
    "testdata_feature = get_testdata_feature()\n",
    "traindata = get_traindata()\n",
    "traindata.info()\n",
    "\n"
   ],
   "metadata": {
    "collapsed": false,
    "pycharm": {
     "name": "#%%\n",
     "is_executing": false
    }
   }
  },
  {
   "cell_type": "code",
   "execution_count": null,
   "outputs": [],
   "source": [
    "traindata.columns\n",
    "\n"
   ],
   "metadata": {
    "collapsed": false,
    "pycharm": {
     "name": "#%%\n"
    }
   }
  },
  {
   "cell_type": "code",
   "execution_count": null,
   "outputs": [],
   "source": [
    "# 包名 经过MD5码 加密 【有重复值，有空值，建议one-hot】\n",
    "print(traindata['pkgname'].unique())\n",
    "print('\\n')\n",
    "\n",
    "# app版本 【很杂，建议剔除】\n",
    "print(traindata['ver'].describe())\n",
    "print('\\n')\n",
    "\n",
    "# 对外广告位 （广告显示的位置）【有重复值，无空值，建议one-hot】\n",
    "print(traindata['adunitshowid'].describe())\n",
    "print('\\n')\n",
    "\n",
    "# 对外媒体ID  【有重复值，无空值，建议one-hot】\n",
    "print(traindata['mediashowid'].describe())\n",
    "print('\\n')\n",
    "\n",
    "# app所属分类  【有重复值，无空值，建议one-hot】\n",
    "print(traindata['apptype'].describe())\n",
    "print('\\n')\n",
    "\n",
    "\n"
   ],
   "metadata": {
    "collapsed": false,
    "pycharm": {
     "name": "#%%\n"
    }
   }
  },
  {
   "cell_type": "code",
   "execution_count": null,
   "outputs": [],
   "source": [
    "# 请求到达服务时间\n",
    "print(traindata['nginxtime'].unique())\n",
    "print(traindata['nginxtime'].loc[0:3])\n",
    "print('\\n')\n",
    "\n",
    "\n"
   ],
   "metadata": {
    "collapsed": false,
    "pycharm": {
     "name": "#%%\n"
    }
   }
  },
  {
   "cell_type": "code",
   "execution_count": null,
   "outputs": [],
   "source": [
    "# 客户端IP地址\n",
    "print(traindata['ip'].unique())\n",
    "print('\\n')\n",
    "\n",
    "# 城市\n",
    "print(traindata['city'].unique())\n",
    "print('\\n')\n",
    "\n",
    "# 省份\n",
    "print(traindata['province'].unique())\n",
    "print('\\n')\n",
    "\n",
    "# 请求的http协议头携带IP，有可能是下游服务器的ip\n",
    "print(traindata['reqrealip'].unique())\n",
    "print('\\n')\n",
    "\n",
    "\n"
   ],
   "metadata": {
    "collapsed": false,
    "pycharm": {
     "name": "#%%\n"
    }
   }
  },
  {
   "cell_type": "code",
   "execution_count": null,
   "outputs": [],
   "source": [
    "# Adroid ID的MD5值\n",
    "print(traindata['adidmd5'].unique())\n",
    "print('\\n')\n",
    "\n",
    "# imei的MD5值\n",
    "print(traindata['imeimd5'].unique())\n",
    "print('\\n')\n",
    "\n",
    "# idfa的MD5值\n",
    "print(traindata['idfamd5'].unique())\n",
    "print('\\n')\n",
    "\n",
    "# openudid的MD5值\n",
    "print(traindata['openudidmd5'].unique())\n",
    "print('\\n')\n",
    "\n",
    "# mac的MD5值\n",
    "print(traindata['macmd5'].unique())\n",
    "print('\\n')\n",
    "\n",
    "# 设备类型 0 – 未知,1 – PC,2 – 手机, 3– 平板,4– 电视盒,5– 智能电视,6 – 可穿戴设备,7 – 智能家电,8 - 音箱,9 - 智能硬件\n",
    "print(traindata['dvctype'].unique())\n",
    "print('\\n')\n",
    "\n",
    "# 机型\n",
    "print(traindata['model'].unique())\n",
    "print('\\n')\n",
    "\n",
    "# 厂商\n",
    "print(traindata['make'].unique())\n",
    "print('\\n')\n",
    "\n",
    "# 网络类型 0-未知, 1-有线网, 2-WIFI, 3-蜂窝网络未知, 4-2G, 5-3G, 6–4G\n",
    "print(traindata['ntt'].unique())\n",
    "print('\\n')\n",
    "\n",
    "# 运营商 0-未知, 46000-移动, 46001-联通, 46003-电信\n",
    "print(traindata['carrier'].unique())\n",
    "print('\\n')\n",
    "\n"
   ],
   "metadata": {
    "collapsed": false,
    "pycharm": {
     "name": "#%%\n"
    }
   }
  },
  {
   "cell_type": "code",
   "execution_count": null,
   "outputs": [],
   "source": [
    "###############################################################################\n",
    "# 操作系统 : Android, iOS\n",
    "print(traindata['os'].unique())\n",
    "print('\\n')\n",
    "\n",
    "# 操作系统 \n",
    "print(testdata_feature['os'].unique())\n",
    "print('\\n')\n",
    "\n",
    "def deal_os(df, **params):\n",
    "    \"\"\"\n",
    "    处理操作系统\n",
    "    :param df: \n",
    "    :param params: \n",
    "    :return: \n",
    "    \"\"\"\n",
    "    if 'os' in df.columns:\n",
    "        # 先将所有值转化为小写\n",
    "        df['os'] = df['os'].apply(lambda x: x.lower())\n",
    "        # 如果所有值都相同，则剔除\n",
    "        if len(set(df['os'])) is 1:\n",
    "            del df['os']\n",
    "    \n",
    "    return df\n",
    "    \n",
    "traindata = deal_os(traindata)\n",
    "\n",
    "# 操作系统版本\n",
    "print(traindata.columns)\n",
    "print('\\n')\n",
    "\n",
    "testdata_feature = deal_os(testdata_feature)\n",
    "\n",
    "# 操作系统版本\n",
    "print(testdata_feature.columns)\n",
    "print('\\n')\n",
    "###############################################################################\n",
    "\n",
    "\n"
   ],
   "metadata": {
    "collapsed": false,
    "pycharm": {
     "name": "#%%\n"
    }
   }
  },
  {
   "cell_type": "code",
   "execution_count": null,
   "outputs": [],
   "source": [
    "# 操作系统版本\n",
    "print(traindata['osv'].unique())\n",
    "print('\\n')\n",
    "\n",
    "\n"
   ],
   "metadata": {
    "collapsed": false,
    "pycharm": {
     "name": "#%%\n"
    }
   }
  },
  {
   "cell_type": "code",
   "execution_count": null,
   "outputs": [],
   "source": [
    "###############################################################################\n",
    "# 横竖屏:0竖屏，1横屏\n",
    "print(traindata['orientation'].unique())\n",
    "print('\\n')\n",
    "\n",
    "# 横竖屏:0竖屏，1横屏\n",
    "print(testdata_feature['orientation'].unique())\n",
    "print('\\n')\n",
    "\n",
    "# train 中orientation为90的仅有一条数据为0，其余结为1 \n",
    "\n",
    "# (1, 28)\n",
    "train_2 = traindata[traindata.orientation.astype(int) == 2]\n",
    "print(train_2.shape)\n",
    "# (0, 27)\n",
    "test_2 = testdata_feature[traindata.orientation.astype(int) == 2] \n",
    "print(test_2.shape)\n",
    "# (110, 28)\n",
    "train_90 = traindata[traindata.orientation.astype(int) == 90] \n",
    "print(train_90.shape)\n",
    "# (15, 27)\n",
    "test_90 = testdata_feature[traindata.orientation.astype(int) == 90] \n",
    "print(test_90.shape)\n",
    "\n",
    "def deal_orientation(df, **params):\n",
    "    \"\"\"\n",
    "    剔除非0和1的数据 【即非横/竖屏的数据】\n",
    "    :param df: \n",
    "    :param params: \n",
    "    :return: \n",
    "    \"\"\"\n",
    "    df = df[(df['orientation'].astype(int) == 0) | (df['orientation'].astype(int) == 1) | (df['orientation'].astype(int) == 90)]\n",
    "    \n",
    "    return df\n",
    "\n",
    "traindata = deal_orientation(traindata)\n",
    "testdata_feature = deal_orientation(testdata_feature)\n",
    "\n",
    "# 横竖屏:0竖屏，1横屏\n",
    "print(traindata['orientation'].unique())\n",
    "print('\\n')\n",
    "\n",
    "# 横竖屏:0竖屏，1横屏\n",
    "print(testdata_feature['orientation'].unique())\n",
    "print('\\n')\n",
    "###############################################################################\n",
    "\n",
    "\n"
   ],
   "metadata": {
    "collapsed": false,
    "pycharm": {
     "name": "#%%\n"
    }
   }
  },
  {
   "cell_type": "code",
   "execution_count": 25,
   "outputs": [
    {
     "name": "stdout",
     "text": [
      "zh-CN          488365\nzh              60962\ncn              41216\nzh_CN           23125\nZh-CN           16300\nzh-cn            1272\nZH                373\nCN                323\ntw                231\nen                162\nzh_CN_#Hans        57\nko                 24\nzh-TW              22\nen-US               7\nzh-HK               5\nit                  4\nja                  3\nen-GB               3\nTW                  3\nmi                  2\nzh_HK_#Hant         2\nfr                  2\nen_GB               1\nzh-                 1\nzh_TW               1\nzh-US               1\nde                  1\nth-TH               1\nen_US               1\nin_ID               1\nKR                  1\nzh-MO               1\nName: lan, dtype: int64\n\n\nzh-CN          51216\nzh              6527\nzh_CN           3639\ncn              3596\nZh-CN           1463\nzh-cn             73\nZH                51\nCN                42\nen                19\ntw                17\nzh_CN_#Hans        8\nko                 4\nzh-TW              3\nit                 2\nen-US              1\nen-GB              1\nen-us              1\nja                 1\nzh-HK              1\nName: lan, dtype: int64\n\n\n",
      "1    631996\n0    367527\n2       264\n3       174\n4        39\nName: lan, dtype: int64\n\n\nzh-CN          51216\nzh              6527\nzh_CN           3639\ncn              3596\nZh-CN           1463\nzh-cn             73\nZH                51\nCN                42\nen                19\ntw                17\nzh_CN_#Hans        8\nko                 4\nzh-TW              3\nit                 2\nen-US              1\nen-GB              1\nen-us              1\nja                 1\nzh-HK              1\nName: lan, dtype: int64\n\n\n"
     ],
     "output_type": "stream"
    }
   ],
   "source": [
    "###############################################################################\n",
    "# 语言\n",
    "print(traindata['lan'].value_counts())\n",
    "print('\\n')\n",
    "\n",
    "print(testdata_feature['lan'].value_counts())\n",
    "print('\\n')\n",
    "\n",
    "# print(traindata[traindata['lan'] == 'en'][['label', 'province', 'city']])\n",
    "\n",
    "def deal_lan(df, **params):\n",
    "    \"\"\"\n",
    "    处理语言\n",
    "    :param df: \n",
    "    :param params: \n",
    "    :return: \n",
    "    \"\"\"\n",
    "    df['lan'] = df['lan'].fillna(0)\n",
    "    \n",
    "    df['lan'] = df['lan'].apply(lambda x: str(x).lower())\n",
    "    # 优先处理cn: 1\n",
    "    df['lan'] = df['lan'].apply(lambda x: '1' if 'cn' in str(x) else x)\n",
    "    # 处理tw： 2\n",
    "    df['lan'] = df['lan'].apply(lambda x: '2' if 'tw' in str(x) else x)\n",
    "    # 处理hk: 2\n",
    "    df['lan'] = df['lan'].apply(lambda x: '2' if 'hk' in str(x) else x)\n",
    "    # 处理en: 3\n",
    "    df['lan'] = df['lan'].apply(lambda x: '3' if 'en' in str(x) else x)\n",
    "    # 处理zh: 1\n",
    "    df['lan'] = df['lan'].apply(lambda x: '1' if 'zh' in str(x) else x)\n",
    "    # 其他： 4\n",
    "    df['lan'] = df['lan'].apply(lambda x: '4' if not x in ['0', '1', '2', '3'] else x)\n",
    "    \n",
    "    return df\n",
    "\n",
    "# 处理语言\n",
    "traindata = deal_lan(traindata)\n",
    "testdata_feature = testdata_feature(testdata_feature)\n",
    "\n",
    "print(traindata['lan'].value_counts())\n",
    "print('\\n')\n",
    "\n",
    "print(testdata_feature['lan'].value_counts())\n",
    "print('\\n')\n",
    "###############################################################################\n",
    "\n",
    "\n"
   ],
   "metadata": {
    "collapsed": false,
    "pycharm": {
     "name": "#%%\n",
     "is_executing": false
    }
   }
  },
  {
   "cell_type": "code",
   "execution_count": null,
   "outputs": [],
   "source": [
    "# 设备高\n",
    "print(traindata['h'].unique())\n",
    "print('\\n')\n",
    "\n",
    "# 设备宽\n",
    "print(traindata['w'].unique())\n",
    "print('\\n')\n",
    "\n",
    "# 屏幕密度\n",
    "print(traindata['ppi'].unique())\n",
    "print('\\n')"
   ],
   "metadata": {
    "collapsed": false,
    "pycharm": {
     "name": "#%%\n"
    }
   }
  },
  {
   "cell_type": "code",
   "execution_count": null,
   "outputs": [],
   "source": [
    "\n"
   ],
   "metadata": {
    "collapsed": false,
    "pycharm": {
     "name": "#%%\n"
    }
   }
  }
 ],
 "metadata": {
  "language_info": {
   "codemirror_mode": {
    "name": "ipython",
    "version": 2
   },
   "file_extension": ".py",
   "mimetype": "text/x-python",
   "name": "python",
   "nbconvert_exporter": "python",
   "pygments_lexer": "ipython2",
   "version": "2.7.6"
  },
  "kernelspec": {
   "name": "pycharm-e50da876",
   "language": "python",
   "display_name": "PyCharm (ForecastScore)"
  },
  "pycharm": {
   "stem_cell": {
    "cell_type": "raw",
    "source": [],
    "metadata": {
     "collapsed": false
    }
   }
  }
 },
 "nbformat": 4,
 "nbformat_minor": 0
}