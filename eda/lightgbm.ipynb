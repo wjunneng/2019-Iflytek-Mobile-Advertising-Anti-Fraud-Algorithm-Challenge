{
 "cells": [
  {
   "cell_type": "code",
   "execution_count": 1,
   "metadata": {
    "pycharm": {
     "is_executing": false
    }
   },
   "outputs": [
    {
     "name": "stdout",
     "output_type": "stream",
     "text": [
      "Mem. usage decreased to  0.07 Mb (71.5% reduction)\n",
      "Mem. usage decreased to  0.03 Mb (71.5% reduction)\n"
     ]
    }
   ],
   "source": [
    "import numpy as np\n",
    "import pandas as pd\n",
    "\n",
    "project_path = '/home/wjunneng/Python/2019-Iflytek-Mobile-Advertising-Anti-Fraud-Algorithm-Challenge'\n",
    "\n",
    "traindata_cache_path = project_path + '/data/cache/traindata.h5'\n",
    "testdata_cache_path = project_path + '/data/cache/testdata_feature.h5'\n",
    "label_cache_path = project_path + '/data/cache/label.h5'\n",
    "\n",
    "\n",
    "\n",
    "def reduce_mem_usage(df, verbose=True):\n",
    "    \"\"\"\n",
    "    减少内存消耗\n",
    "    :param df:\n",
    "    :param verbose:\n",
    "    :return:\n",
    "    \"\"\"\n",
    "    numerics = ['int16', 'int32', 'int64', 'float16', 'float32', 'float64']\n",
    "    start_mem = df.memory_usage().sum() / 1024 ** 2\n",
    "    for col in df.columns:\n",
    "        col_type = df[col].dtypes\n",
    "        if col_type in numerics:\n",
    "            c_min = df[col].min()\n",
    "            c_max = df[col].max()\n",
    "            if str(col_type)[:3] == 'int':\n",
    "                if c_min > np.iinfo(np.int8).min and c_max < np.iinfo(np.int8).max:\n",
    "                    df[col] = df[col].astype(np.int8)\n",
    "                elif c_min > np.iinfo(np.int16).min and c_max < np.iinfo(np.int16).max:\n",
    "                    df[col] = df[col].astype(np.int16)\n",
    "                elif c_min > np.iinfo(np.int32).min and c_max < np.iinfo(np.int32).max:\n",
    "                    df[col] = df[col].astype(np.int32)\n",
    "                elif c_min > np.iinfo(np.int64).min and c_max < np.iinfo(np.int64).max:\n",
    "                    df[col] = df[col].astype(np.int64)\n",
    "            else:\n",
    "                if c_min > np.finfo(np.float16).min and c_max < np.finfo(np.float16).max:\n",
    "                    df[col] = df[col].astype(np.float16)\n",
    "                elif c_min > np.finfo(np.float32).min and c_max < np.finfo(np.float32).max:\n",
    "                    df[col] = df[col].astype(np.float32)\n",
    "                else:\n",
    "                    df[col] = df[col].astype(np.float64)\n",
    "    end_mem = df.memory_usage().sum() / 1024 ** 2\n",
    "    if verbose: print('Mem. usage decreased to {:5.2f} Mb ({:.1f}% reduction)'.format(end_mem, 100 * (\n",
    "            start_mem - end_mem) / start_mem))\n",
    "    return df\n",
    "\n",
    "\n",
    "\n",
    "\n",
    "# 训练集\n",
    "traindata = reduce_mem_usage(pd.read_hdf(path_or_buf=traindata_cache_path, mode='r', key='train'))\n",
    "# 标签\n",
    "label = pd.read_hdf(path_or_buf=label_cache_path, mode='r', key='label')\n",
    "# 测试集\n",
    "testdata = reduce_mem_usage(pd.read_hdf(path_or_buf=testdata_cache_path, mode='r', key='test'))"
   ]
  },
  {
   "cell_type": "code",
   "execution_count": null,
   "metadata": {
    "pycharm": {
     "is_executing": false,
     "name": "#%%\n"
    }
   },
   "outputs": [],
   "source": [
    "import time\n",
    "from sklearn.model_selection import train_test_split\n",
    "import xgboost as xgb\n",
    "from sklearn.model_selection import GridSearchCV\n",
    "\n",
    "start = time.clock()\n",
    "\n",
    "delete_columns = ['sid', 'label', 'ip', 'reqrealip', 'nginxtime', 'begintime']\n",
    "\n",
    "train = np.array(traindata.drop(delete_columns, axis=1))\n",
    "test = np.array(testdata.drop(delete_columns, axis=1))\n",
    "columns = [i for i in traindata.columns if i not in delete_columns]\n",
    "\n",
    "train_x, valid_x, train_y, valid_y = train_test_split(train, label, test_size=0.333, random_state=0)   # 分训练集和验证集\n",
    "# 这里不需要Dmatrix\n",
    "\n",
    "parameters = {\n",
    "              'max_depth': [5, 10, 15, 20, 25],\n",
    "              'learning_rate': [0.01, 0.02, 0.05, 0.1, 0.15],\n",
    "              'n_estimators': [500, 1000, 2000, 3000, 5000],\n",
    "              'min_child_weight': [0, 2, 5, 10, 20],\n",
    "              'max_delta_step': [0, 0.2, 0.6, 1, 2],\n",
    "              'subsample': [0.6, 0.7, 0.8, 0.85, 0.95],\n",
    "              'colsample_bytree': [0.5, 0.6, 0.7, 0.8, 0.9],\n",
    "              'reg_alpha': [0, 0.25, 0.5, 0.75, 1],\n",
    "              'reg_lambda': [0.2, 0.4, 0.6, 0.8, 1],\n",
    "              'scale_pos_weight': [0.2, 0.4, 0.6, 0.8, 1]\n",
    "\n",
    "}\n",
    "\n",
    "xlf = xgb.XGBClassifier(max_depth=10,\n",
    "\t\t\tlearning_rate=0.01,\n",
    "\t\t\tn_estimators=2000,\n",
    "\t\t\tsilent=True,\n",
    "\t\t\tobjective='binary:logistic',\n",
    "\t\t\tnthread=10,\n",
    "\t\t\tgamma=0,\n",
    "\t\t\tmin_child_weight=1,\n",
    "\t\t\tmax_delta_step=0,\n",
    "\t\t\tsubsample=0.85,\n",
    "\t\t\tcolsample_bytree=0.7,\n",
    "\t\t\tcolsample_bylevel=1,\n",
    "\t\t\treg_alpha=0,\n",
    "\t\t\treg_lambda=1,\n",
    "\t\t\tscale_pos_weight=1,\n",
    "\t\t\tseed=1440,\n",
    "\t\t\tmissing=None)\n",
    "\t\t\t\n",
    "# 有了gridsearch我们便不需要fit函数\n",
    "gsearch = GridSearchCV(xlf, param_grid=parameters, scoring='accuracy', cv=3)\n",
    "gsearch.fit(train_x, train_y)\n",
    "\n",
    "print(\"Best score: %0.3f\" % gsearch.best_score_)\n",
    "print(\"Best parameters set:\")\n",
    "best_parameters = gsearch.best_estimator_.get_params()\n",
    "for param_name in sorted(parameters.keys()):\n",
    "    print(\"\\t%s: %r\" % (param_name, best_parameters[param_name]))\n",
    "\n",
    "print(time.clock() - start)"
   ]
  },
  {
   "cell_type": "code",
   "execution_count": null,
   "metadata": {
    "pycharm": {
     "name": "#%%\n"
    }
   },
   "outputs": [],
   "source": [
    "\n"
   ]
  }
 ],
 "metadata": {
  "kernelspec": {
   "display_name": "PyCharm (ForecastScore)",
   "language": "python",
   "name": "pycharm-e50da876"
  },
  "language_info": {
   "codemirror_mode": {
    "name": "ipython",
    "version": 3
   },
   "file_extension": ".py",
   "mimetype": "text/x-python",
   "name": "python",
   "nbconvert_exporter": "python",
   "pygments_lexer": "ipython3",
   "version": "3.6.8"
  },
  "pycharm": {
   "stem_cell": {
    "cell_type": "raw",
    "metadata": {
     "collapsed": false
    },
    "source": []
   }
  }
 },
 "nbformat": 4,
 "nbformat_minor": 1
}
