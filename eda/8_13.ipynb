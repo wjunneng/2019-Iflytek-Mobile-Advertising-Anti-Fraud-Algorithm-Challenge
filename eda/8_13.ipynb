{
 "cells": [
  {
   "cell_type": "code",
   "execution_count": 2,
   "metadata": {
    "collapsed": true,
    "pycharm": {
     "is_executing": false
    }
   },
   "outputs": [
    {
     "name": "stdout",
     "text": [
      "<class 'pandas.core.frame.DataFrame'>\nRangeIndex: 1000000 entries, 0 to 999999\nData columns (total 29 columns):\nsid             1000000 non-null object\nlabel           1000000 non-null int64\npkgname         1000000 non-null object\nver             678176 non-null object\nadunitshowid    1000000 non-null object\nmediashowid     1000000 non-null object\napptype         1000000 non-null float64\nnginxtime       1000000 non-null float64\nip              1000000 non-null object\ncity            984807 non-null object\nprovince        1000000 non-null float64\nreqrealip       1000000 non-null object\nadidmd5         1000000 non-null object\nimeimd5         1000000 non-null object\nidfamd5         1000000 non-null object\nopenudidmd5     1000000 non-null object\nmacmd5          1000000 non-null object\ndvctype         1000000 non-null float64\nmodel           995533 non-null object\nmake            876161 non-null object\nntt             1000000 non-null float64\ncarrier         1000000 non-null float64\nos              1000000 non-null object\nosv             987003 non-null object\norientation     1000000 non-null float64\nlan             632473 non-null object\nh               1000000 non-null float64\nw               1000000 non-null float64\nppi             1000000 non-null float64\ndtypes: float64(10), int64(1), object(18)\nmemory usage: 221.3+ MB\n"
     ],
     "output_type": "stream"
    }
   ],
   "source": [
    "import pandas as pd\n",
    "\n",
    "# 项目路径\n",
    "project_path = '/home/wjunneng/Python/2019-Iflytek-Mobile-Advertising-Anti-Fraud-Algorithm-Challenge'\n",
    "# round1_iflyad_anticheat_testdata_feature.txt文件路径\n",
    "testdata_feature_path = project_path + '/data/original/round1_iflyad_anticheat_testdata_feature.txt'\n",
    "# round1_iflyad_anticheat_traindata.txt文件路径\n",
    "traindata_path = project_path + '/data/original/round1_iflyad_anticheat_traindata.txt'\n",
    "\n",
    "def get_testdata_feature(**params):\n",
    "    \"\"\"\n",
    "    返回 testdata_feature 文件内容\n",
    "    :param params:\n",
    "    :return:\n",
    "    \"\"\"\n",
    "    testdata_feature_data = pd.read_table(testdata_feature_path, sep='\\t')\n",
    "\n",
    "    return testdata_feature_data\n",
    "\n",
    "\n",
    "def get_traindata(**params):\n",
    "    \"\"\"\n",
    "    返回 traindata 文件内容\n",
    "    :param params:\n",
    "    :return:\n",
    "    \"\"\"\n",
    "    traindata_data = pd.read_table(traindata_path, sep='\\t')\n",
    "\n",
    "    return traindata_data\n",
    "\n",
    "\n",
    "testdata_feature = get_testdata_feature()\n",
    "traindata = get_traindata()\n",
    "traindata.info()\n",
    "\n"
   ]
  },
  {
   "cell_type": "code",
   "execution_count": null,
   "outputs": [],
   "source": [
    "traindata.columns\n",
    "\n"
   ],
   "metadata": {
    "collapsed": false,
    "pycharm": {
     "name": "#%%\n"
    }
   }
  },
  {
   "cell_type": "code",
   "execution_count": null,
   "outputs": [],
   "source": [
    "# 包名 经过MD5码 加密 【有重复值，有空值，建议one-hot】\n",
    "print(traindata['pkgname'].unique())\n",
    "print('\\n')\n",
    "\n",
    "# app版本 【很杂，建议剔除】\n",
    "print(traindata['ver'].describe())\n",
    "print('\\n')\n",
    "\n",
    "# 对外广告位 （广告显示的位置）【有重复值，无空值，建议one-hot】\n",
    "print(traindata['adunitshowid'].describe())\n",
    "print('\\n')\n",
    "\n",
    "# 对外媒体ID  【有重复值，无空值，建议one-hot】\n",
    "print(traindata['mediashowid'].describe())\n",
    "print('\\n')\n",
    "\n",
    "# app所属分类  【有重复值，无空值，建议one-hot】\n",
    "print(traindata['apptype'].describe())\n",
    "print('\\n')\n",
    "\n",
    "\n"
   ],
   "metadata": {
    "collapsed": false,
    "pycharm": {
     "name": "#%%\n"
    }
   }
  },
  {
   "cell_type": "code",
   "execution_count": null,
   "outputs": [],
   "source": [
    "# 请求到达服务时间\n",
    "print(traindata['nginxtime'].unique())\n",
    "print(traindata['nginxtime'].loc[0:3])\n",
    "print('\\n')\n",
    "\n",
    "\n"
   ],
   "metadata": {
    "collapsed": false,
    "pycharm": {
     "name": "#%%\n"
    }
   }
  },
  {
   "cell_type": "code",
   "execution_count": null,
   "outputs": [],
   "source": [
    "# 客户端IP地址\n",
    "print(traindata['ip'].unique())\n",
    "print('\\n')\n",
    "\n",
    "\n"
   ],
   "metadata": {
    "collapsed": false,
    "pycharm": {
     "name": "#%%\n"
    }
   }
  },
  {
   "cell_type": "code",
   "execution_count": 22,
   "outputs": [
    {
     "name": "stdout",
     "text": [
      "['石家庄市' '开封市' '长春市' '曲靖市' '深圳市' '潍坊市' '宜宾市' '邯郸市' '贵阳市' '来宾市' '盐城市' '南京市'\n '宁波市' '重庆市' '泰州市' '常州市' '西安市' '商丘市' '广州市' '连云港市' '唐山市' '北京市' '安阳市' '新乡市'\n '武汉市' '青岛市' nan '眉山市' '甘孜藏族自治州' '江门市' '沈阳市' '东莞市' '桂林市' '厦门市' '吕梁市'\n '哈尔滨市' '成都市' '内江市' '晋中市' '贵港市' '凉山彝族自治州' '徐州市' '衢州市' '福州市' '宿州市' '珠海市'\n '绍兴市' '昆明市' '西宁市' '上饶市' '朔州市' '天津市' '上海市' '枣庄市' '赣州市' '南宁市' '锡林郭勒盟' '黄石市'\n '昌吉回族自治州' '郑州市' '贺州市' '杭州市' '丽水市' '郴州市' '衡阳市' '汕尾市' '泰安市' '钦州市' '惠州市'\n '怀化市' '淮安市' '日照市' '清远市' '湘潭市' '河源市' '临沂市' '朝阳市' '南通市' '保定市' '秦皇岛市'\n '呼和浩特市' '吉安市' '巴音郭楞蒙古自治州' '合肥市' '周口市' '牡丹江市' '邢台市' '长沙市' '遂宁市' '湛江市'\n '洛阳市' '大兴安岭地区' '兰州市' '九江市' '济南市' '葫芦岛市' '荆门市' '滨州市' '驻马店市' '沧州市' '龙岩市'\n '南阳市' '济宁市' '乌兰察布市' '丽江市' '南昌市' '攀枝花市' '文山壮族苗族自治州' '延边朝鲜族自治州' '揭阳市'\n '黔南布依族苗族自治州' '信阳市' '鄂尔多斯市' '通辽市' '铜川市' '无锡市' '池州市' '阜新市' '百色市' '通化市'\n '东营市' '孝感市' '湖州市' '锦州市' '荆州市' '平顶山市' '阜阳市' '伊春市' '温州市' '廊坊市' '梧州市' '肇庆市'\n '海口市' '莆田市' '庆阳市' '丹东市' '佳木斯市' '常德市' '泉州市' '长治市' '金昌市' '乌鲁木齐市' '淄博市'\n '鹰潭市' '太原市' '黔西南布依族苗族自治州' '芜湖市' '金华市' '铁岭市' '焦作市' '咸阳市' '淮南市' '遵义市' '四平市'\n '张掖市' '大同市' '中山市' '甘南藏族自治州' '伊犁哈萨克自治州' '苏州市' '赤峰市' '松原市' '齐齐哈尔市' '绵阳市'\n '迪庆藏族自治州' '银川市' '漳州市' '阿坝藏族羌族自治州' '梅州市' '益阳市' '十堰市' '楚雄彝族自治州' '抚州市' '永州市'\n '随州市' '汉中市' '六安市' '延安市' '滁州市' '襄阳市' '许昌市' '雅安市' '阿拉善盟' '黔东南苗族侗族自治州' '德州市'\n '南充市' '西双版纳傣族自治州' '台州市' '运城市' '威海市' '固原市' '崇左市' '玉溪市' '呼伦贝尔市' '大连市' '衡水市'\n '白城市' '茂名市' '乐山市' '潮州市' '渭南市' '白山市' '汕头市' '忻州市' '宁德市' '河池市' '临沧市' '烟台市'\n '菏泽市' '张家口市' '扬州市' '昭通市' '聊城市' '本溪市' '鄂州市' '晋城市' '广元市' '三门峡市' '定西市' '玉林市'\n '亳州市' '营口市' '鞍山市' '阿克苏地区' '宿迁市' '南平市' '株洲市' '邵阳市' '萍乡市' '广安市' '佛山市' '承德市'\n '柳州市' '咸宁市' '白银市' '榆林市' '韶关市' '湘西土家族苗族自治州' '铜陵市' '云浮市' '嘉兴市' '巴中市' '鹤壁市'\n '台湾' '鸡西市' '临汾市' '酒泉市' '安庆市' '商洛市' '拉萨市' '黑河市' '岳阳市' '平凉市' '克拉玛依市' '香港'\n '镇江市' '双鸭山市' '黄冈市' '六盘水市' '漯河市' '喀什地区' '大庆市' '吉林市' '宝鸡市' '临夏回族自治州' '绥化市'\n '安顺市' '马鞍山市' '保山市' '濮阳市' '防城港市' '德宏傣族景颇族自治州' '舟山市' '张家界市' '德阳市' '宜昌市'\n '淮北市' '吴忠市' '泸州市' '塔城地区' '中卫市' '大理白族自治州' '抚顺市' '三明市' '天水市' '恩施土家族苗族自治州'\n '北海市' '自贡市' '蚌埠市' '娄底市' '普洱市' '辽阳市' '石嘴山市' '和田地区' '资阳市' '陇南市' '包头市'\n '红河哈尼族彝族自治州' '兴安盟' '景德镇市' '黄山市' '达州市' '阳泉市' '宜春市' '莱芜市' '三亚市' '鹤岗市'\n '博尔塔拉蒙古自治州' '巴彦淖尔市' '安康市' '武威市' '宣城市' '盘锦市' '阿勒泰地区' '乌海市' '七台河市' '阳江市'\n '新余市' '自治区直辖县级行政区划' '嘉峪关市' '克孜勒苏柯尔克孜自治州' '海西蒙古族藏族自治州' '儋州市' '怒江傈僳族自治州'\n '黄南藏族自治州' '辽源市' '澳门' '阿里地区' '果洛藏族自治州' '玉树藏族自治州' '海北藏族自治州' '海南藏族自治州']\n\n\n[-1. 31.  2. 27.  3. 34. 33. 32.]\n\n\n自治区直辖县级行政区划\n",
      "自治区直辖县级行政区划\n自治区直辖县级行政区划\n自治区直辖县级行政区划\n自治区直辖县级行政区划\n",
      "自治区直辖县级行政区划\n自治区直辖县级行政区划\n自治区直辖县级行政区划\n自治区直辖县级行政区划\n自治区直辖县级行政区划\n",
      "自治区直辖县级行政区划\n自治区直辖县级行政区划\n自治区直辖县级行政区划\n自治区直辖县级行政区划\n自治区直辖县级行政区划\n自治区直辖县级行政区划\n自治区直辖县级行政区划\n自治区直辖县级行政区划\n",
      "自治区直辖县级行政区划\n自治区直辖县级行政区划\n自治区直辖县级行政区划\n",
      "自治区直辖县级行政区划\n自治区直辖县级行政区划\n",
      "自治区直辖县级行政区划\n自治区直辖县级行政区划\n自治区直辖县级行政区划\n自治区直辖县级行政区划\n自治区直辖县级行政区划\n",
      "自治区直辖县级行政区划\n自治区直辖县级行政区划\n",
      "自治区直辖县级行政区划\n自治区直辖县级行政区划\n自治区直辖县级行政区划\n",
      "自治区直辖县级行政区划\n自治区直辖县级行政区划\n自治区直辖县级行政区划\n",
      "自治区直辖县级行政区划\n",
      "自治区直辖县级行政区划\n自治区直辖县级行政区划\n自治区直辖县级行政区划\n自治区直辖县级行政区划\n自治区直辖县级行政区划\n自治区直辖县级行政区划\n",
      "自治区直辖县级行政区划\n自治区直辖县级行政区划\n自治区直辖县级行政区划\n自治区直辖县级行政区划\n",
      "自治区直辖县级行政区划\n自治区直辖县级行政区划\n自治区直辖县级行政区划\n自治区直辖县级行政区划\n自治区直辖县级行政区划\n自治区直辖县级行政区划\n自治区直辖县级行政区划\n",
      "自治区直辖县级行政区划\n自治区直辖县级行政区划\n",
      "自治区直辖县级行政区划\n自治区直辖县级行政区划\n自治区直辖县级行政区划\n",
      "自治区直辖县级行政区划\n",
      "自治区直辖县级行政区划\n自治区直辖县级行政区划\n",
      "自治区直辖县级行政区划\n自治区直辖县级行政区划\n自治区直辖县级行政区划\n",
      "自治区直辖县级行政区划\n自治区直辖县级行政区划\n自治区直辖县级行政区划\n",
      "自治区直辖县级行政区划\n自治区直辖县级行政区划\n自治区直辖县级行政区划\n自治区直辖县级行政区划\n",
      "自治区直辖县级行政区划\n自治区直辖县级行政区划\n自治区直辖县级行政区划\n",
      "自治区直辖县级行政区划\n自治区直辖县级行政区划\n自治区直辖县级行政区划\n自治区直辖县级行政区划\n自治区直辖县级行政区划\n",
      "自治区直辖县级行政区划\n自治区直辖县级行政区划\n自治区直辖县级行政区划\n自治区直辖县级行政区划\n自治区直辖县级行政区划\n",
      "自治区直辖县级行政区划\n自治区直辖县级行政区划\n自治区直辖县级行政区划\n",
      "自治区直辖县级行政区划\n自治区直辖县级行政区划\n自治区直辖县级行政区划\n自治区直辖县级行政区划\n自治区直辖县级行政区划\n",
      "自治区直辖县级行政区划\n自治区直辖县级行政区划\n自治区直辖县级行政区划\n自治区直辖县级行政区划\n自治区直辖县级行政区划\n",
      "自治区直辖县级行政区划\n自治区直辖县级行政区划\n自治区直辖县级行政区划\n",
      "自治区直辖县级行政区划\n",
      "自治区直辖县级行政区划\n",
      "自治区直辖县级行政区划\n自治区直辖县级行政区划\n自治区直辖县级行政区划\n自治区直辖县级行政区划\n",
      "自治区直辖县级行政区划\n自治区直辖县级行政区划\n",
      "自治区直辖县级行政区划\n自治区直辖县级行政区划\n",
      "自治区直辖县级行政区划\n自治区直辖县级行政区划\n自治区直辖县级行政区划\n自治区直辖县级行政区划\n",
      "自治区直辖县级行政区划\n自治区直辖县级行政区划\n自治区直辖县级行政区划\n自治区直辖县级行政区划\n自治区直辖县级行政区划\n自治区直辖县级行政区划\n",
      "自治区直辖县级行政区划\n自治区直辖县级行政区划\n自治区直辖县级行政区划\n自治区直辖县级行政区划\n自治区直辖县级行政区划\n",
      "自治区直辖县级行政区划\n自治区直辖县级行政区划\n自治区直辖县级行政区划\n",
      "自治区直辖县级行政区划\n自治区直辖县级行政区划\n自治区直辖县级行政区划\n自治区直辖县级行政区划\n自治区直辖县级行政区划\n",
      "['130100' '410200' '220100' '530300' '440300' '370700' '511500' '130400'\n '520100' '451300' '320900' '320100' '330200' '500000' '321200' '320400'\n '610100' '411400' '440100' '320700' '130200' '110000' '410500' '410700'\n '420100' '370200' '100000' '511400' '513300' '440700' '210100' '441900'\n '450300' '350200' '141100' '230100' '510100' '511000' '140700' '450800'\n '513400' '320300' '330800' '350100' '341300' '440400' '330600' '530100'\n '630100' '361100' '140600' '120000' '310000' '370400' '360700' '450100'\n '152500' '420200' '652300' '410100' '451100' '330100' '331100' '431000'\n '430400' '441500' '370900' '450700' '441300' '431200' '320800' '371100'\n '441800' '430300' '441600' '371300' '211300' '320600' '130600' '130300'\n '150100' '360800' '652800' '340100' '411600' '231000' '130500' '430100'\n '510900' '440800' '410300' '232700' '620100' '360400' '370100' '211400'\n '420800' '371600' '411700' '130900' '350800' '411300' '370800' '150900'\n '530700' '360100' '510400' '532600' '222400' '445200' '522700' '411500'\n '150600' '150500' '610200' '320200' '341700' '210900' '451000' '220500'\n '370500' '420900' '330500' '210700' '421000' '410400' '341200' '230700'\n '330300' '131000' '450400' '441200' '460100' '350300' '621000' '210600'\n '230800' '430700' '350500' '140400' '620300' '650100' '370300' '360600'\n '140100' '522300' '340200' '330700' '211200' '410800' '610400' '340400'\n '520300' '220300' '620700' '140200' '442000' '623000' '654000' '320500'\n '150400' '220700' '230200' '510700' '533400' '640100' '350600' '513200'\n '441400' '430900' '420300' '532300' '361000' '431100' '421300' '610700'\n '341500' '610600' '341100' '420600' '411000' '511800' '152900' '522600'\n '371400' '511300' '532800' '331000' '140800' '371000' '640400' '451400'\n '530400' '150700' '210200' '131100' '220800' '440900' '511100' '445100'\n '610500' '220600' '440500' '140900' '350900' '451200' '530900' '370600'\n '371700' '130700' '321000' '530600' '371500' '210500' '420700' '140500'\n '510800' '411200' '621100' '450900' '341600' '210800' '210300' '652900'\n '321300' '350700' '430200' '430500' '360300' '511600' '440600' '130800'\n '450200' '421200' '620400' '610800' '440200' '433100' '340700' '445300'\n '330400' '511900' '410600' '710000' '230300' '141000' '620900' '340800'\n '611000' '540100' '231100' '430600' '620800' '650200' '810000' '321100'\n '230500' '421100' '520200' '411100' '653100' '230600' '220200' '610300'\n '622900' '231200' '520400' '340500' '530500' '410900' '450600' '533100'\n '330900' '430800' '510600' '420500' '340600' '640300' '510500' '654200'\n '640500' '532900' '210400' '350400' '620500' '422800' '450500' '510300'\n '340300' '431300' '530800' '211000' '640200' '653200' '512000' '621200'\n '150200' '532500' '152200' '360200' '341000' '511700' '140300' '360900'\n '371200' '460200' '230400' '652700' '150800' '610900' '620600' '341800'\n '211100' '654300' '150300' '230900' '441700' '360500' '620200' '653000'\n '632800' '460400' '533300' '632300' '220400' '820000' '542500' '632600'\n '632700' '632200' '632500']\n\n\n['13' '41' '22' '53' '44' '37' '51' '52' '45' '32' '33' '50' '61' '11'\n '42' '10' '21' '35' '14' '23' '34' '63' '36' '12' '31' '15' '65' '43'\n '62' '46' '64' '71' '54' '81' '82']\n\n\n"
     ],
     "output_type": "stream"
    }
   ],
   "source": [
    "###############################################################################\n",
    "# 城市\n",
    "print(traindata['city'].unique())\n",
    "print('\\n')\n",
    "\n",
    "# 省份\n",
    "print(traindata['province'].unique())\n",
    "print('\\n')\n",
    "\n",
    "\n",
    "def deal_city_province(df, **params):\n",
    "    \"\"\"\n",
    "    处理城市和省份\n",
    "    :param df: \n",
    "    :param params: \n",
    "    :return: \n",
    "    \"\"\"\n",
    "    import json\n",
    "    # 中国省市编码地址\n",
    "    china_city_list_path = project_path + '/data/foreign/china_city_list.json'\n",
    "    \n",
    "    # 省\n",
    "    provinces = {}\n",
    "    \n",
    "    # 市\n",
    "    cities = {}\n",
    "\n",
    "    # 读取json\n",
    "    with open(china_city_list_path, 'r') as file:\n",
    "        # 读取所有省市数据\n",
    "        china_city_list = json.load(file)\n",
    "            \n",
    "        for province in china_city_list:\n",
    "            # key:province/value:code\n",
    "            provinces[province['province']] = province['code']\n",
    "            \n",
    "            for city in province['cities']:\n",
    "                # key:city/value:code\n",
    "                cities[city['name']] = city['code']\n",
    "    \n",
    "    china_city_list = df['city']\n",
    "    china_city_list = china_city_list.fillna(0)\n",
    "    \n",
    "    china_city_list_code = []\n",
    "    china_province_list_code = []\n",
    "    \n",
    "    # 遍历获取code\n",
    "    for city in china_city_list.values:\n",
    "        # 是否在provinces中\n",
    "        if city in dict.fromkeys(provinces.keys(), True):\n",
    "            tmp = provinces[city]\n",
    "            china_city_list_code.append(tmp)\n",
    "            china_province_list_code.append(tmp[:2])\n",
    "            \n",
    "        # 是否在cities中\n",
    "        elif city in dict.fromkeys(cities.keys(), True):\n",
    "            tmp = cities[city]\n",
    "            china_city_list_code.append(tmp)\n",
    "            china_province_list_code.append(tmp[:2])\n",
    "        \n",
    "        # 不存在    \n",
    "        else:\n",
    "            china_city_list_code.append('100000')\n",
    "            china_province_list_code.append('10')\n",
    "            \n",
    "            if city != 0:\n",
    "                print(city)\n",
    "    \n",
    "    # 替换\n",
    "    df['city'] = china_city_list_code\n",
    "    df['province'] = china_province_list_code\n",
    "                \n",
    "    return df\n",
    "    \n",
    "traindata = deal_city_province(traindata)\n",
    "\n",
    "# 城市\n",
    "print(traindata['city'].unique())\n",
    "print('\\n')\n",
    "\n",
    "# 省份\n",
    "print(traindata['province'].unique())\n",
    "print('\\n')\n",
    "###############################################################################\n",
    "\n",
    "\n"
   ],
   "metadata": {
    "collapsed": false,
    "pycharm": {
     "name": "#%%\n",
     "is_executing": false
    }
   }
  },
  {
   "cell_type": "code",
   "execution_count": null,
   "outputs": [],
   "source": [
    "# 请求的http协议头携带IP，有可能是下游服务器的ip\n",
    "print(traindata['reqrealip'].unique())\n",
    "print('\\n')\n",
    "\n",
    "\n"
   ],
   "metadata": {
    "collapsed": false,
    "pycharm": {
     "name": "#%%\n"
    }
   }
  },
  {
   "cell_type": "code",
   "execution_count": null,
   "outputs": [],
   "source": [
    "# Adroid ID的MD5值\n",
    "print(traindata['adidmd5'].unique())\n",
    "print('\\n')\n",
    "\n",
    "# imei的MD5值  移动设备国际识别码，是手机设备的唯一识别号码\n",
    "print(traindata['imeimd5'].unique())\n",
    "print('\\n')\n",
    "\n",
    "# idfa的MD5值\n",
    "print(traindata['idfamd5'].unique())\n",
    "print('\\n')\n",
    "\n",
    "# openudid的MD5值\n",
    "print(traindata['openudidmd5'].unique())\n",
    "print('\\n')\n",
    "\n",
    "# mac的MD5值\n",
    "print(traindata['macmd5'].unique())\n",
    "print('\\n')\n",
    "\n",
    "# 设备类型 0 – 未知,1 – PC,2 – 手机, 3– 平板,4– 电视盒,5– 智能电视,6 – 可穿戴设备,7 – 智能家电,8 - 音箱,9 - 智能硬件\n",
    "print(traindata['dvctype'].unique())\n",
    "print('\\n')\n",
    "\n",
    "# 机型\n",
    "print(traindata['model'].unique())\n",
    "print('\\n')\n",
    "\n",
    "\n"
   ],
   "metadata": {
    "collapsed": false,
    "pycharm": {
     "name": "#%%\n"
    }
   }
  },
  {
   "cell_type": "code",
   "execution_count": 8,
   "outputs": [
    {
     "name": "stdout",
     "text": [
      "OPPO                    250359\nvivo                    207547\nHUAWEI                  126195\nXiaomi                   48005\nHONOR                    45321\n                         ...  \nONEPLUS+A5010                1\nOPPO A53m                    1\nK-Touch K5                   1\n%2522vivo%2BX9s%2522         1\n%2522STF-AL00%2522           1\nName: make, Length: 2620, dtype: int64\n\n\n"
     ],
     "output_type": "stream"
    }
   ],
   "source": [
    "# 厂商\n",
    "print(traindata['make'].value_counts())\n",
    "print('\\n')\n",
    "\n",
    "# 网络类型 0-未知, 1-有线网, 2-WIFI, 3-蜂窝网络未知, 4-2G, 5-3G, 6–4G\n",
    "print(traindata['ntt'].unique())\n",
    "print('\\n')\n",
    "\n",
    "# 运营商 0-未知, 46000-移动, 46001-联通, 46003-电信\n",
    "print(traindata['carrier'].unique())\n",
    "print('\\n')\n",
    "\n"
   ],
   "metadata": {
    "collapsed": false,
    "pycharm": {
     "name": "#%%\n",
     "is_executing": false
    }
   }
  },
  {
   "cell_type": "code",
   "execution_count": null,
   "outputs": [],
   "source": [
    "###############################################################################\n",
    "# 操作系统 : Android, iOS\n",
    "print(traindata['os'].unique())\n",
    "print('\\n')\n",
    "\n",
    "# 操作系统 \n",
    "print(testdata_feature['os'].unique())\n",
    "print('\\n')\n",
    "\n",
    "def deal_os(df, **params):\n",
    "    \"\"\"\n",
    "    处理操作系统\n",
    "    :param df: \n",
    "    :param params: \n",
    "    :return: \n",
    "    \"\"\"\n",
    "    if 'os' in df.columns:\n",
    "        # 先将所有值转化为小写\n",
    "        df['os'] = df['os'].apply(lambda x: x.lower())\n",
    "        # 如果所有值都相同，则剔除\n",
    "        if len(set(df['os'])) is 1:\n",
    "            del df['os']\n",
    "    \n",
    "    return df\n",
    "    \n",
    "traindata = deal_os(traindata)\n",
    "\n",
    "# 操作系统版本\n",
    "print(traindata.columns)\n",
    "print('\\n')\n",
    "\n",
    "testdata_feature = deal_os(testdata_feature)\n",
    "\n",
    "# 操作系统版本\n",
    "print(testdata_feature.columns)\n",
    "print('\\n')\n",
    "###############################################################################\n",
    "\n",
    "\n"
   ],
   "metadata": {
    "collapsed": false,
    "pycharm": {
     "name": "#%%\n"
    }
   }
  },
  {
   "cell_type": "code",
   "execution_count": null,
   "outputs": [],
   "source": [
    "# 操作系统版本\n",
    "print(traindata['osv'].unique())\n",
    "print('\\n')\n",
    "\n",
    "\n"
   ],
   "metadata": {
    "collapsed": false,
    "pycharm": {
     "name": "#%%\n"
    }
   }
  },
  {
   "cell_type": "code",
   "execution_count": null,
   "outputs": [],
   "source": [
    "###############################################################################\n",
    "# 横竖屏:0竖屏，1横屏\n",
    "print(traindata['orientation'].unique())\n",
    "print('\\n')\n",
    "\n",
    "# 横竖屏:0竖屏，1横屏\n",
    "print(testdata_feature['orientation'].unique())\n",
    "print('\\n')\n",
    "\n",
    "# train 中orientation为90的仅有一条数据为0，其余结为1 \n",
    "\n",
    "# (1, 28)\n",
    "train_2 = traindata[traindata.orientation.astype(int) == 2]\n",
    "print(train_2.shape)\n",
    "# (0, 27)\n",
    "test_2 = testdata_feature[traindata.orientation.astype(int) == 2] \n",
    "print(test_2.shape)\n",
    "# (110, 28)\n",
    "train_90 = traindata[traindata.orientation.astype(int) == 90] \n",
    "print(train_90.shape)\n",
    "# (15, 27)\n",
    "test_90 = testdata_feature[traindata.orientation.astype(int) == 90] \n",
    "print(test_90.shape)\n",
    "\n",
    "def deal_orientation(df, **params):\n",
    "    \"\"\"\n",
    "    剔除非0和1的数据 【即非横/竖屏的数据】\n",
    "    :param df: \n",
    "    :param params: \n",
    "    :return: \n",
    "    \"\"\"\n",
    "    df = df[(df['orientation'].astype(int) == 0) | (df['orientation'].astype(int) == 1) | (df['orientation'].astype(int) == 90)]\n",
    "    \n",
    "    return df\n",
    "\n",
    "traindata = deal_orientation(traindata)\n",
    "testdata_feature = deal_orientation(testdata_feature)\n",
    "\n",
    "# 横竖屏:0竖屏，1横屏\n",
    "print(traindata['orientation'].unique())\n",
    "print('\\n')\n",
    "\n",
    "# 横竖屏:0竖屏，1横屏\n",
    "print(testdata_feature['orientation'].unique())\n",
    "print('\\n')\n",
    "###############################################################################\n",
    "\n",
    "\n"
   ],
   "metadata": {
    "collapsed": false,
    "pycharm": {
     "name": "#%%\n"
    }
   }
  },
  {
   "cell_type": "code",
   "execution_count": null,
   "outputs": [],
   "source": [
    "###############################################################################\n",
    "# 语言\n",
    "print(traindata['lan'].value_counts())\n",
    "print('\\n')\n",
    "\n",
    "print(testdata_feature['lan'].value_counts())\n",
    "print('\\n')\n",
    "\n",
    "# print(traindata[traindata['lan'] == 'en'][['label', 'province', 'city']])\n",
    "\n",
    "def deal_lan(df, **params):\n",
    "    \"\"\"\n",
    "    处理语言\n",
    "    :param df: \n",
    "    :param params: \n",
    "    :return: \n",
    "    \"\"\"\n",
    "    df['lan'] = df['lan'].fillna(0)\n",
    "    \n",
    "    df['lan'] = df['lan'].apply(lambda x: str(x).lower())\n",
    "    # 优先处理cn: 1\n",
    "    df['lan'] = df['lan'].apply(lambda x: '1' if 'cn' in str(x) else x)\n",
    "    # 处理tw： 2\n",
    "    df['lan'] = df['lan'].apply(lambda x: '2' if 'tw' in str(x) else x)\n",
    "    # 处理hk: 2\n",
    "    df['lan'] = df['lan'].apply(lambda x: '2' if 'hk' in str(x) else x)\n",
    "    # 处理en: 3\n",
    "    df['lan'] = df['lan'].apply(lambda x: '3' if 'en' in str(x) else x)\n",
    "    # 处理zh: 1\n",
    "    df['lan'] = df['lan'].apply(lambda x: '1' if 'zh' in str(x) else x)\n",
    "    # 其他： 4\n",
    "    df['lan'] = df['lan'].apply(lambda x: '4' if not x in ['0', '1', '2', '3'] else x)\n",
    "    \n",
    "    return df\n",
    "\n",
    "# 处理语言\n",
    "traindata = deal_lan(traindata)\n",
    "testdata_feature = testdata_feature(testdata_feature)\n",
    "\n",
    "print(traindata['lan'].value_counts())\n",
    "print('\\n')\n",
    "\n",
    "print(testdata_feature['lan'].value_counts())\n",
    "print('\\n')\n",
    "###############################################################################\n",
    "\n",
    "\n"
   ],
   "metadata": {
    "collapsed": false,
    "pycharm": {
     "name": "#%%\n"
    }
   }
  },
  {
   "cell_type": "code",
   "execution_count": null,
   "outputs": [],
   "source": [
    "# 设备高\n",
    "print(traindata['h'].unique())\n",
    "print('\\n')\n",
    "\n",
    "# 设备宽\n",
    "print(traindata['w'].unique())\n",
    "print('\\n')\n",
    "\n",
    "# 屏幕密度\n",
    "print(traindata['ppi'].unique())\n",
    "print('\\n')"
   ],
   "metadata": {
    "collapsed": false,
    "pycharm": {
     "name": "#%%\n"
    }
   }
  },
  {
   "cell_type": "code",
   "execution_count": null,
   "outputs": [],
   "source": [
    "\n"
   ],
   "metadata": {
    "collapsed": false,
    "pycharm": {
     "name": "#%%\n"
    }
   }
  }
 ],
 "metadata": {
  "language_info": {
   "codemirror_mode": {
    "name": "ipython",
    "version": 2
   },
   "file_extension": ".py",
   "mimetype": "text/x-python",
   "name": "python",
   "nbconvert_exporter": "python",
   "pygments_lexer": "ipython2",
   "version": "2.7.6"
  },
  "kernelspec": {
   "name": "pycharm-e50da876",
   "language": "python",
   "display_name": "PyCharm (ForecastScore)"
  },
  "pycharm": {
   "stem_cell": {
    "cell_type": "raw",
    "source": [],
    "metadata": {
     "collapsed": false
    }
   }
  }
 },
 "nbformat": 4,
 "nbformat_minor": 0
}