{
 "cells": [
  {
   "cell_type": "code",
   "execution_count": 132,
   "metadata": {
    "collapsed": true,
    "pycharm": {
     "is_executing": false
    }
   },
   "outputs": [
    {
     "name": "stdout",
     "text": [
      "<class 'pandas.core.frame.DataFrame'>\nRangeIndex: 1000000 entries, 0 to 999999\nData columns (total 29 columns):\nsid             1000000 non-null object\nlabel           1000000 non-null int64\npkgname         1000000 non-null object\nver             678176 non-null object\nadunitshowid    1000000 non-null object\nmediashowid     1000000 non-null object\napptype         1000000 non-null float64\nnginxtime       1000000 non-null float64\nip              1000000 non-null object\ncity            984807 non-null object\nprovince        1000000 non-null float64\nreqrealip       1000000 non-null object\nadidmd5         1000000 non-null object\nimeimd5         1000000 non-null object\nidfamd5         1000000 non-null object\nopenudidmd5     1000000 non-null object\nmacmd5          1000000 non-null object\ndvctype         1000000 non-null float64\nmodel           995533 non-null object\nmake            876161 non-null object\nntt             1000000 non-null float64\ncarrier         1000000 non-null float64\nos              1000000 non-null object\nosv             987003 non-null object\norientation     1000000 non-null float64\nlan             632473 non-null object\nh               1000000 non-null float64\nw               1000000 non-null float64\nppi             1000000 non-null float64\ndtypes: float64(10), int64(1), object(18)\nmemory usage: 221.3+ MB\n"
     ],
     "output_type": "stream"
    }
   ],
   "source": [
    "import pandas as pd\n",
    "\n",
    "# 项目路径\n",
    "project_path = '/home/wjunneng/Python/2019-Iflytek-Mobile-Advertising-Anti-Fraud-Algorithm-Challenge'\n",
    "# round1_iflyad_anticheat_testdata_feature.txt文件路径\n",
    "testdata_feature_path = project_path + '/data/original/round1_iflyad_anticheat_testdata_feature.txt'\n",
    "# round1_iflyad_anticheat_traindata.txt文件路径\n",
    "traindata_path = project_path + '/data/original/round1_iflyad_anticheat_traindata.txt'\n",
    "\n",
    "def get_testdata_feature(**params):\n",
    "    \"\"\"\n",
    "    返回 testdata_feature 文件内容\n",
    "    :param params:\n",
    "    :return:\n",
    "    \"\"\"\n",
    "    testdata_feature_data = pd.read_table(testdata_feature_path, sep='\\t')\n",
    "\n",
    "    return testdata_feature_data\n",
    "\n",
    "\n",
    "def get_traindata(**params):\n",
    "    \"\"\"\n",
    "    返回 traindata 文件内容\n",
    "    :param params:\n",
    "    :return:\n",
    "    \"\"\"\n",
    "    traindata_data = pd.read_table(traindata_path, sep='\\t')\n",
    "\n",
    "    return traindata_data\n",
    "\n",
    "\n",
    "testdata_feature = get_testdata_feature()\n",
    "traindata = get_traindata()\n",
    "traindata.info()\n",
    "\n"
   ]
  },
  {
   "cell_type": "code",
   "execution_count": 133,
   "outputs": [
    {
     "data": {
      "text/plain": "Index(['sid', 'label', 'pkgname', 'ver', 'adunitshowid', 'mediashowid',\n       'apptype', 'nginxtime', 'ip', 'city', 'province', 'reqrealip',\n       'adidmd5', 'imeimd5', 'idfamd5', 'openudidmd5', 'macmd5', 'dvctype',\n       'model', 'make', 'ntt', 'carrier', 'os', 'osv', 'orientation', 'lan',\n       'h', 'w', 'ppi'],\n      dtype='object')"
     },
     "metadata": {},
     "output_type": "execute_result",
     "execution_count": 133
    }
   ],
   "source": [
    "traindata.columns\n",
    "\n"
   ],
   "metadata": {
    "collapsed": false,
    "pycharm": {
     "name": "#%%\n",
     "is_executing": false
    }
   }
  },
  {
   "cell_type": "code",
   "execution_count": 134,
   "outputs": [
    {
     "name": "stdout",
     "text": [
      "['2d2664e827bcbb8b07100c7fbe072e9b' 'empty'\n '16b81f93f4b1a35cebbf15f07683f171' ... '4510691cbea2d4e68b4161c2d626cf65'\n '52cbed1ad7f2be37bf9c26b1f6f45662' '38256830b4b5336480fa4d1fb403fafd']\n\n\ncount       678176\nunique        3182\ntop       30927000\nfreq         81783\nName: ver, dtype: object\n\n\n",
      "count                              1000000\nunique                                 790\ntop       f51ec99a47731ba46985a4530c923069\nfreq                                 49059\nName: adunitshowid, dtype: object\n\n\n",
      "count                              1000000\nunique                                 309\ntop       d53d2af198ebef9544f0823c3c8e84f8\nfreq                                188053\nName: mediashowid, dtype: object\n\n\ncount    1000000.000000\nmean         296.176870\nstd           42.996455\nmin           -1.000000\n25%          273.000000\n50%          301.000000\n75%          326.000000\nmax          381.000000\nName: apptype, dtype: float64\n\n\n"
     ],
     "output_type": "stream"
    }
   ],
   "source": [
    "# 包名 经过MD5码 加密 【有重复值，有空值，建议one-hot】\n",
    "print(traindata['pkgname'].unique())\n",
    "print('\\n')\n",
    "\n",
    "# app版本 【很杂，建议剔除】\n",
    "print(traindata['ver'].describe())\n",
    "print('\\n')\n",
    "\n",
    "# 对外广告位 （广告显示的位置）【有重复值，无空值，建议one-hot】\n",
    "print(traindata['adunitshowid'].describe())\n",
    "print('\\n')\n",
    "\n",
    "# 对外媒体ID  【有重复值，无空值，建议one-hot】\n",
    "print(traindata['mediashowid'].describe())\n",
    "print('\\n')\n",
    "\n",
    "# app所属分类  【有重复值，无空值，建议one-hot】\n",
    "print(traindata['apptype'].describe())\n",
    "print('\\n')\n",
    "\n",
    "\n"
   ],
   "metadata": {
    "collapsed": false,
    "pycharm": {
     "name": "#%%\n",
     "is_executing": false
    }
   }
  },
  {
   "cell_type": "code",
   "execution_count": 135,
   "outputs": [
    {
     "name": "stdout",
     "text": [
      "[1.56009070e+12 1.56005074e+12 1.56008915e+12 ... 1.55956076e+12\n 1.55954191e+12 1.55951872e+12]\n0    1.560091e+12\n1    1.560051e+12\n2    1.560089e+12\n3    1.560063e+12\nName: nginxtime, dtype: float64\n\n\n"
     ],
     "output_type": "stream"
    }
   ],
   "source": [
    "# 请求到达服务时间\n",
    "print(traindata['nginxtime'].unique())\n",
    "print(traindata['nginxtime'].loc[0:3])\n",
    "print('\\n')\n",
    "\n",
    "\n"
   ],
   "metadata": {
    "collapsed": false,
    "pycharm": {
     "name": "#%%\n",
     "is_executing": false
    }
   }
  },
  {
   "cell_type": "code",
   "execution_count": 136,
   "outputs": [
    {
     "name": "stdout",
     "text": [
      "['183.197.47.83' '106.34.14.149' '223.104.16.151' ... '117.139.250.219'\n '124.95.112.248' '222.168.166.105']\n\n\n['石家庄市' '开封市' '长春市' '曲靖市' '深圳市' '潍坊市' '宜宾市' '邯郸市' '贵阳市' '来宾市' '盐城市' '南京市'\n '宁波市' '重庆市' '泰州市' '常州市' '西安市' '商丘市' '广州市' '连云港市' '唐山市' '北京市' '安阳市' '新乡市'\n '武汉市' '青岛市' nan '眉山市' '甘孜藏族自治州' '江门市' '沈阳市' '东莞市' '桂林市' '厦门市' '吕梁市'\n '哈尔滨市' '成都市' '内江市' '晋中市' '贵港市' '凉山彝族自治州' '徐州市' '衢州市' '福州市' '宿州市' '珠海市'\n '绍兴市' '昆明市' '西宁市' '上饶市' '朔州市' '天津市' '上海市' '枣庄市' '赣州市' '南宁市' '锡林郭勒盟' '黄石市'\n '昌吉回族自治州' '郑州市' '贺州市' '杭州市' '丽水市' '郴州市' '衡阳市' '汕尾市' '泰安市' '钦州市' '惠州市'\n '怀化市' '淮安市' '日照市' '清远市' '湘潭市' '河源市' '临沂市' '朝阳市' '南通市' '保定市' '秦皇岛市'\n '呼和浩特市' '吉安市' '巴音郭楞蒙古自治州' '合肥市' '周口市' '牡丹江市' '邢台市' '长沙市' '遂宁市' '湛江市'\n '洛阳市' '大兴安岭地区' '兰州市' '九江市' '济南市' '葫芦岛市' '荆门市' '滨州市' '驻马店市' '沧州市' '龙岩市'\n '南阳市' '济宁市' '乌兰察布市' '丽江市' '南昌市' '攀枝花市' '文山壮族苗族自治州' '延边朝鲜族自治州' '揭阳市'\n '黔南布依族苗族自治州' '信阳市' '鄂尔多斯市' '通辽市' '铜川市' '无锡市' '池州市' '阜新市' '百色市' '通化市'\n '东营市' '孝感市' '湖州市' '锦州市' '荆州市' '平顶山市' '阜阳市' '伊春市' '温州市' '廊坊市' '梧州市' '肇庆市'\n '海口市' '莆田市' '庆阳市' '丹东市' '佳木斯市' '常德市' '泉州市' '长治市' '金昌市' '乌鲁木齐市' '淄博市'\n '鹰潭市' '太原市' '黔西南布依族苗族自治州' '芜湖市' '金华市' '铁岭市' '焦作市' '咸阳市' '淮南市' '遵义市' '四平市'\n '张掖市' '大同市' '中山市' '甘南藏族自治州' '伊犁哈萨克自治州' '苏州市' '赤峰市' '松原市' '齐齐哈尔市' '绵阳市'\n '迪庆藏族自治州' '银川市' '漳州市' '阿坝藏族羌族自治州' '梅州市' '益阳市' '十堰市' '楚雄彝族自治州' '抚州市' '永州市'\n '随州市' '汉中市' '六安市' '延安市' '滁州市' '襄阳市' '许昌市' '雅安市' '阿拉善盟' '黔东南苗族侗族自治州' '德州市'\n '南充市' '西双版纳傣族自治州' '台州市' '运城市' '威海市' '固原市' '崇左市' '玉溪市' '呼伦贝尔市' '大连市' '衡水市'\n '白城市' '茂名市' '乐山市' '潮州市' '渭南市' '白山市' '汕头市' '忻州市' '宁德市' '河池市' '临沧市' '烟台市'\n '菏泽市' '张家口市' '扬州市' '昭通市' '聊城市' '本溪市' '鄂州市' '晋城市' '广元市' '三门峡市' '定西市' '玉林市'\n '亳州市' '营口市' '鞍山市' '阿克苏地区' '宿迁市' '南平市' '株洲市' '邵阳市' '萍乡市' '广安市' '佛山市' '承德市'\n '柳州市' '咸宁市' '白银市' '榆林市' '韶关市' '湘西土家族苗族自治州' '铜陵市' '云浮市' '嘉兴市' '巴中市' '鹤壁市'\n '台湾' '鸡西市' '临汾市' '酒泉市' '安庆市' '商洛市' '拉萨市' '黑河市' '岳阳市' '平凉市' '克拉玛依市' '香港'\n '镇江市' '双鸭山市' '黄冈市' '六盘水市' '漯河市' '喀什地区' '大庆市' '吉林市' '宝鸡市' '临夏回族自治州' '绥化市'\n '安顺市' '马鞍山市' '保山市' '濮阳市' '防城港市' '德宏傣族景颇族自治州' '舟山市' '张家界市' '德阳市' '宜昌市'\n '淮北市' '吴忠市' '泸州市' '塔城地区' '中卫市' '大理白族自治州' '抚顺市' '三明市' '天水市' '恩施土家族苗族自治州'\n '北海市' '自贡市' '蚌埠市' '娄底市' '普洱市' '辽阳市' '石嘴山市' '和田地区' '资阳市' '陇南市' '包头市'\n '红河哈尼族彝族自治州' '兴安盟' '景德镇市' '黄山市' '达州市' '阳泉市' '宜春市' '莱芜市' '三亚市' '鹤岗市'\n '博尔塔拉蒙古自治州' '巴彦淖尔市' '安康市' '武威市' '宣城市' '盘锦市' '阿勒泰地区' '乌海市' '七台河市' '阳江市'\n '新余市' '自治区直辖县级行政区划' '嘉峪关市' '克孜勒苏柯尔克孜自治州' '海西蒙古族藏族自治州' '儋州市' '怒江傈僳族自治州'\n '黄南藏族自治州' '辽源市' '澳门' '阿里地区' '果洛藏族自治州' '玉树藏族自治州' '海北藏族自治州' '海南藏族自治州']\n\n\n[-1. 31.  2. 27.  3. 34. 33. 32.]\n\n\n",
      "['180.76.181.7' '47.95.111.138' '39.96.159.155' ... '113.57.183.75'\n '122.190.154.66' '223.104.108.58']\n\n\n"
     ],
     "output_type": "stream"
    }
   ],
   "source": [
    "# 客户端IP地址\n",
    "print(traindata['ip'].unique())\n",
    "print('\\n')\n",
    "\n",
    "# 城市\n",
    "print(traindata['city'].unique())\n",
    "print('\\n')\n",
    "\n",
    "# 省份\n",
    "print(traindata['province'].unique())\n",
    "print('\\n')\n",
    "\n",
    "# 请求的http协议头携带IP，有可能是下游服务器的ip\n",
    "print(traindata['reqrealip'].unique())\n",
    "print('\\n')\n",
    "\n",
    "\n"
   ],
   "metadata": {
    "collapsed": false,
    "pycharm": {
     "name": "#%%\n",
     "is_executing": false
    }
   }
  },
  {
   "cell_type": "code",
   "execution_count": 137,
   "outputs": [
    {
     "name": "stdout",
     "text": [
      "['eb4fa0cf77cdd57a6993a4e42c8fa4cf' 'a4ae6efcfaee62fb6da44a9c05753259'\n '3404f799628be2cf8fda7428aac2cca4' ... 'a5cd076e6d73316c068a5e3390ddf87d'\n 'a050c67fe5621f7b088392c160e8a449' 'a42018c0711aaad851aa7fa099c4ed43']\n\n\n",
      "['930b3a8ecff4f586c63fec5b96693f32' '6e38deaa1f7b4118015c550bb21913d2'\n '3fa42b06332c729f530b973973fabe3d' ... 'b9a88dc3a028ece16f5e1954153c2af3'\n 'bce10bfbb3ffc911faaac8cb8cf7b4a7' 'ad3d7bec3b340fe63ba8e746baee8acf']\n\n\n['empty' '80b7787f8ecf0834e00fa0a83f9202cc'\n 'fdfd833aa7474629d46fe22d849351b5' 'c544452d86ea2d5a6f6b22e3f8b1974e'\n '10911b94f2ef1597c4ee53b07e5e8787' '2d2832b31421e8534fbf5b0ab3570aea'\n '0a1bdfa93d663da691d9a7844555150a' '23cd4466e9f32a1a5fbced4cd2c53025'\n '9d94663514e8e2d4233ac87798452529' '71b0c1447612fad625f57712c2b64346'\n '295d6a7406e5a88163a2ca0be7fbbc2f' '15edd24fc1b5b2f4403453a2e4dcd7b7'\n '1b9a74df793714c3fd442b5ec465b3f9' '6038e8dd0074877287e6bb05ade322f6'\n '6a5d6766a427d259f020f278a285ff40' '4c1c4835d84fe308791452b38a35869e'\n 'bfdfc2bf9bff38d3317da355a6d8eed3' '4935929b2a059ae7a52cddbc72c834b2'\n '478a42c0b21db5cddfd87100e1d6ba5a' '5728bc23ce928f0bc50bb597d098be92'\n 'fdb41efe5f7d28bf4561457efb980901' '1ae73353617c9a22305ab9ee79cd6c13'\n 'ea4aae236502042b06bbdfdcea9c8985' '0d77108ef5c232925740b4a348b6e660'\n '673822796e62e777b9ddc2f5272e2f0b' '71ab0dd7caba5c032f94ad9410d1d516'\n 'a4c9efd7f8ed6ba561372fb60b2a0cd7' '3583c065979a1b412c280190f361a54e'\n '780ac14e0046222d31ed113d845fc996' '751566ae0ca6161d1abd4d3afd39479a'\n '55c2e2f366bcede73bb11a3d3ac5f4af' '744bb4a8b3af4ef68c63fd95b2cde4e9'\n '4efa5c9be0fad98dbb4f7daba6d96e0a' '26b3a8faed4526620c48991439a69f06'\n 'd67529dbafa45e7073733577f44c9114' '7b6ce6c6d1081137051d555741c2d830'\n '6871e32a5e3833fb3255e982ce5b2fbc' 'b60a8a8956b99b9c9ee275767347add5'\n '59a370f36b3b2982409f1794e4d44167' '1822f17f5f3d86775d3bcd43da07d0f7'\n '62d32e569d118831c7f697fb8fdd6dd6' 'e9711b0864c134451a64392f71cb30d0'\n 'a192526ba971ee2ad3cb00aa4e704f66' '56960f3884411ecf16f5773fa400fd00'\n 'e2c71df007ad36773742c252c9676b84' 'cc3db3fce8ef646deaaca918e8348df4'\n '2ea3de53faca9f335fb84ab9d70a06bd' '28a55506cc983b4f8b0b6de5ffa9ddce'\n '400674ed060de14db4391fd7a51bb5f3' '3c921ee041b932f9454cfccf96c666d9'\n '8abc90aa260e8540b1e2bf92cb3d816f' '305c7880a62e5c4ecf9ba42aa94dc6d4'\n 'a67c8c278261b21bec52fa0558660206' '156428bbd3b36274edb3174ab1ad6682'\n '28660fc0e6da9c395f747655341e643c' '8491c5eec9dac87a522be3f07197a6ce'\n 'fb3ff2abce5b2294c812eda75650f4be' '46a3a6d5614663c5ef8d897a2e72d178'\n 'c56dbd0ed000553e7f6b9534e012d6b2' 'b0a8adfbf0fa6293ca222440fd50e219'\n '72dbadff8ce2e82d587a291a75fb36af' 'af76e00377f8701f7023894645e2e55f'\n '000dcdf3dd1e08dcea20a0e7cfafd67d' 'ecadbd6711c5c7a556f4a986a51755e8'\n 'd27e217ee354cae82176c26250fe4552' 'ccc767dd15d969f3af6759424bc7a842'\n '5cb717bdba351eaeeba94a2dc59d4b04' '0cde1910dbf0a0308f31902cfcdf7f5f'\n '0efbeda4c8000641d0abd1c1b62c8b22' '5e871571471da4ba2b2f126323dfcc55'\n 'c22199859cccda285c4c9a76c62f57ed' 'f8d81e522b48a66cbf943be7108ec4cc'\n 'ed6b5ffaca7e2a79ffe18f8274cc71ea' '36f4e552355c903dc0e6aefa3535c859'\n 'd49fcfa5d344ce3807d026f8b84d2c51' '99020f11bad6e2eaa89c41591902ca4a'\n '4779113266b1426ab440d5bb75ce7dd4' '6b32fdcdc95e1040f0894259fda8784f'\n '29d3df547cd1ae8184384aa64ac16550' 'ff00511ca8557ac5e394be7ecdc89d00'\n '6975c7237903e2c28c63642973343fb4' '0d971bc7eb3fbbe211c91e819553f0d1'\n '0d4d562c381333711c0114b79bc76206' '1561d185a0d95d1ef5e44728940ca660'\n 'cff0c09d028a4a90faecfc4cb7b77564' '73508ad250e8a09fb9a346ef581e709b'\n 'cb6c556ffd0ad4f58da3e864edc181fd' '992144b20d158f3d38b6e8404ac651e8'\n '1b144d3e86509d045bd0cf949b82661a' '6b9eb98e3e8f2ce2394409c332ada2e7'\n '39e3b773f2fb2ac1ac779ff023288e34' 'c598d2aceb031e8af827250788ca8979'\n '74306d08549f00fae6a3d38a5dcdcecd' '25b16a622da7249bd98f56d66d30e5b5'\n 'd3b1fa6649ae0ce9f56a590c269c4551' 'c15c12c35d4c9908786c90b9b83974c9'\n '4d0a3f9c6f10e22304314dd14100f7b9' 'd59c37969d27a4fd504aec9bea0d1c38'\n '0e63505f0bbfb64e88c3ef4e88ebf793' '78f676996866776348f9c0548ad04a79'\n '2de3beed3d6b83836cc360cc4246ce63' '418e4aeab82e66e71e6ed31292e172f9'\n 'cc9dd758fb54ddd8a9a0fe324f3631f0' '02874a70c7ea6181b832c8464a7921b6'\n 'd13cf2900c70fd0cf9b594bbd309ce6f' 'd9c07c9d1b4080d958d63507485f0c81'\n 'e32f93e2863a6385cc9c19d6a411621c' '6f5515909c1e596a6156288423c404be'\n '9dcca477e77347afa4c46fc87dd4363a' 'd9c6059299570957d629c209ee9ca4ce'\n 'bb20d22ec71fbce3930e87f55548c339' '23de5be16a0eae107af82be6f9bd39f5'\n 'c03c5edbf73cd1478839fc3858ce5e6d' '8cb8e750c6c0a5d1e95e5365b98c60c5'\n '1125686c9f94271c6d2bcbb7118a73ea' '58e9fcbdf81ba31e3a3aa8302396ecd2'\n 'e5b1cf68e5fe0f140683567a0d6957c1' '2e810d054be298fdfe73be2b44dcbb28'\n '3d93765de981f0c4983d8c86a472c0c2' '347988180a0c515feec5e0bf62b67433'\n '6656e4b49d179e7ab2db3ef8e9bc49d7' 'fecec4b3fbcd908963112f7a19c6ef5f'\n '684d10ba24e77cb19412a81acf2b86d5' 'f93f61588a76f3a09a202ea01fd3972c'\n 'fbdb1398c5f050f5017396eb90038351' 'e99fb33e3f283b68f6d70729a381b10e'\n 'a6a5c7c282a339c28d07566f43e548ff' '53ef18906da7302687cff51c6ee74ee6'\n 'd6a3c76348377958204e7e020dfc29b9' 'e9868ba7753d92f019b5927fd231702d'\n '5f613c1e483f39306191d4f3588049d5' 'cbc00d7926ed20bf5305f4923dc6d35a'\n 'e480c1067dc48837b93a97a139376c01' 'b04451ee816b9cc59adc27f7c73596d0'\n 'a38ccd3bf17f4e2e225e0c612cf2ffde' 'ed32ffeced9b8fd5034104170a7a1150'\n 'bb21ecaff30c12b7cd796933d2114d2c' 'def2407f3e23140165d1ede7baa79da2'\n '74e9246105f9a2393ca6bb38a60c7b32' 'd9069b29b4a10fa599c52a0432a415ea'\n 'cc2fa46df55980c01956de822a375eeb' '98ddbc927608398ba2fc7b9ff9aebc7c'\n '9091f634a1e5d644c414bbbf75180514' '738700b7cc8c4a1bbdd23b2b5df0e4c1'\n '15f3927b346e6beb32124a0e1aea3d6c' '7eee7e8d8a36b8956965405551c54459'\n 'e598307da9be911f6fd148995668b072' 'd5c9a3de1d8799bc388ad10bfba3fa7f'\n '063dc41724e3c84d50a7c1300f1fbe61' 'c783ff2a293bef30e76eb7c0ff2827f1'\n 'e5d346b39f2945de53b7ef249478df14' '737d473fa050ebb9d4102d2e66b129d1'\n '18c85889dfe9b4ef836d58d0e24baaee' '37b4f574979dfb30f4f538278ce5de94'\n 'bea24b94f416957cdcf7beaa03a8602a' '9eb6beeabc3464f636ceee6bc057fc2a'\n '7e28f947003855eaa0ade89c7d21de56' '15c7dbcf995bf8ad8c5b895bcfdc6884'\n '962b614db2ec820f49fc656d895d0794' 'efc6441c1748b4b2ca27ec685356e7f4'\n '66164f5a8d1fa3ce0ddfac45518f2098' 'ee8fc19410e0dbd3d7b12e495a530181'\n 'b7c80be272874ed52c38afc0af63372e' '04475efd928d4cab58a8728e62af6bac'\n 'fae74cc26538fc38e549b955e455d0bd' 'e48c42bd13502839eb94b3b369d6e17a'\n '1df093f7709597147e5da709856f1c6f' '01f90cd729c5f4c99e05ae2399ef84f1'\n '85d7fa9a9306e52272b8205c59e4a175' 'aa028ae51753d9c31af76ec36ec88b89'\n 'ddb2acd84e58888b19d9bfb8b5d2ca35' '4d9721d1b9f88cb16b7100abcc5d6006'\n '8451b38d944b00bee926cea20e09f7ec' 'a9a4d6716005b86a5bcf3fded579d5c7'\n '8d28203d27886448bff59c6d173ef505' '7e6826a33d148b2f8a804347878e3608'\n '5e85764183b6bcbf2ea696f124e7d8c9' 'b7b9ac6cf5ce9b3eaf3ba6944e47d29d'\n '3e2a942517ea2aa5d5ade278c1820bac' '644c9c125d9f7d21845558051b26dd3e'\n '3f7a914a88386f869891dead6d1c112a' '8a0cf2729583f264d33b3906c35a0074'\n 'f24994b2378dc5f329c5f347dfe7e2bd' '0b3cbdcbc009ec5b90194ca6c775574d'\n '857dc8ee7d7ef2bd85059bb25f16e0e6' 'b46fa64e446cbe66c929daffc0a02696'\n 'bbf06be104a41dceaf1bab29cdab5610' 'b971404cc654afe13bca9f884af9b9c7'\n '2df31f1eef80d049e9c76ccb096d25f3' '6d281f27bc0e59da448070a850deb2bb'\n '0483f2d7dc5d5b6c06704f46ce65560e' '73c8dfc272750d7b4db769076007d2c0'\n 'bfeec8605dd8ffb116e969cd2bded732' 'ef4d546a9321976431571d62d043c803'\n '5ae5fd59abf58c18f6fdfe3ec1f46309' '5d4c773a251b6cf58c0960d5c66befb7'\n '47a248bd14ea17d4501e9f69700fa998' '73d0b7459536025c1da43fa65fa124c8'\n '2d9fdbcba7b401da7a8a86f0c0a1aa4b' '3aac02e9b6fccc84603a867739258a61'\n '9b8e68767db7f926101b734876b0191a' '67755e816143ef9ca06ce93927947f1f'\n '3a9ab0618ab1c784b7884a2b18160b59' '49e4183d31eee1876266c29350e0882f'\n '1ebae8fb7bf4323d27e3cbea48624a49' '934344803dba9ef88baf699b61b3e005'\n '638a62031645bbe0eb8a559a02f51c28' 'f590bec36b4c4d2739cd3996f986049a'\n 'd6845f7195f90c330da951be86ce05c1' '6ea707955962f5c8ba51d6e12a128f08'\n '24a652403d6de9b4d4152db723cd0ac8' '076ea2034525cbc9d682e21c53f6a06b'\n 'c7cfb092bcfe873ef29331826b8528e6' '67e997a95b16bca4290661a4c5ecf4e7'\n '19ce3faf72559fd6dfa1faf5563a9c92' '073a27837e904ea503641d0b53fdae23'\n '3dc29821cc7c97182d55f90f6583cb08' 'dd5f217ae8507dbc4f52c6e38023f785'\n '65ddb29e38a846812547d55561bbab7c' 'ea33b9b8bd9ef4729869efa3f0113736'\n '7fc798b335466d8781f3ff1a5b4422d0' '574979a5b123802c93462ade94605101'\n '80ba118ee2fd6e01dd26bbd5bdd2fda4' '72554cf03ffd5e325c7adce52316acb3'\n '56ac1100a3465b3e0d6223d6121150f2' '66e854d466a95507c722965cca364a9e'\n 'eb5ff5bfb52ba4be03d79ed4a306dd7b' 'e42751090b2ddce61d7e31112842d30c'\n '5607bc163c8b309e493d5c58d4c6c9a2' '446379d8a8b09f9924d88570720f5658'\n '82494602fdf97ed284fc1e05d8b8b789' '502f45026d0b698077a8ec2330111e64'\n '5e21bbe81a038676269a76fa96d23aa4' '31c91c3db61ca8f2167cac1cccbedbd6'\n '37e9db9c25e2d4f831639e0a0de6621a' 'e9b768f084194f10ff7d3292827626e8'\n '8aea455bb5f5b295fc0fadde65336664' '60c5c4de5b02ab25092032694b90ac70'\n 'ff7e1cbe5cf64712de2db7f2f1513d26' 'c2aaf5e50860fd00e991fa450871d7bd'\n '4c3ef7e6f4bf8e3739c77b7a0e59b794' 'c1c20537c77e8c93732cc98c95001533'\n '75af08a29232c5c8d12125ab59797cc2' '35bc2a5b5da53710c03bc67fe68faa87'\n 'e07e1e5c01be373945853154f49252ef' '0a6725c4079b08f40e795a0b21ebce0c'\n '72cee5a8dfa971806748a2a7a1806d02' '462e894869c4475aaa4d9be5d9d016c5'\n '001feac85e01dcc7c3f9556e8cbcb160' '11f0b99913513ace7eccf9199b08943e'\n 'a1bfb2d10eaac804e6d7e9b30e71d324' 'aaf8f570b74b518969c909be02d185ab'\n '86e9ce9c7d22c203213d29a7d625fc67' 'd1f5bb5a160ffeed596666c048e6c3a7'\n '9e5b20ce356a573338bccad892296043' '41fc51de9c00188e8a988c81548dff35'\n 'ee21e1e4dda999fe37b0a96333b98dda' 'c252ab9b44cdaf99dfe32bc9401677db'\n '171ffd78360588be62e21316db28f1f9' 'f54c2e8483dacff05b998af55f2b766b'\n 'f10d5089227753372249d38f90d9fafb' 'ae38221ef00b46fb9436969dcf404188'\n '1b1e030296978f9f363b23db83caebdd' 'fda6bb860d3f7018507850680f1aea63'\n '681b3ded12c71ce22cb1cd4463c96dbb' 'ad3f882f0518f06833b55a276e59e633'\n 'ed99415ad51d84df6563c8c125bdb198' '233498bbd142df66265438b86b32af95'\n 'e6b0692106df10854cdfe1bf7e374f5c' 'e531b0fb4770202fa1e3be8eca45abe8'\n 'fd4174ab4f0b85b00046f9987d4baae6' '7ce7c52202b0ba52ec22c2d5e4a1dd2c'\n 'b9689de35450657a03f6251b777db35a' 'c79040649283765d03f4232e6ab7837f'\n '10625d832973bd10993641d64625de5c' 'b348a4fa1fd82345465919de8e1bf99d'\n '5ba6e5c5c85b982f85a13d1767e06fab' '12254aacbb2a27d8d61e3da9bd1a8475'\n '931256fd57c9d6a2e1f8fde92bae7692' 'ff0a96a2bb95603ac10d562c1d677a5f'\n '41e7b21b5b6c838e495c1386e1070ff8' '5792e27e1dd80e469cb9bd333ec9b7e4'\n '4017eb8cb17f0186e384fad1093d5e44' '898d0e75848af14dc4b263917d811ac2'\n 'c40e27f3dcf1cf02ad16b6d0426f5c44' '9df3b7d374b91fe0c8e2247572dda15f'\n '0fce95d3e3ee7efccda63046202d67c2' '4e800863305b9f81a6005214d57484d3'\n '49b219938be8a9071a2fb6e9d4b67d13' 'a256e81419eea11bbfd7cbd62c01a0ca'\n '089d8812d3dd701efe390ecc0a0587e8' 'bdc411bbbce082baec7a4a2c99b482b1'\n 'b68a732320d6a6e06fce0ca37c702dd6' '4419d2865079d6dc590e44aa69e3de16'\n 'e20f6550e5e874ced764aa6ee2fb69c0' 'c73c813ae512f6741ce39333f829af54'\n 'f685073145c7b3115e9a60600fb8ea47' '7e68c6fea90aaf1a6bd5cc35a9d5d1f1'\n 'e63ba76476eb530d7f20a0f03f52622c' 'f3930d07c2151a79a4e07bae93b591ad'\n 'b4ac5afd0e06d7bce708ce4d5db0ed8f' '08ddf817c14b078bb681c67790f352f2'\n '9ee5982c4ed978a60e24526ebe89129b' '23ff5c6a7e5e82173cb879aa2fb14423'\n '1588efad668f241eed84bf998d7d81c3' 'ebd9b94970e9a8e923aedb5e150d505e'\n 'acadb5384c9f8629c2361fbd9246ce1e' 'd8c8b923aaf34b5ac80610f74d64dcca'\n 'fda5e52234742f5ab18e2fec637e706c' 'fe12d14ee89ba93c831a9772ddd77cca'\n '6ef65f92a5f3b0abaed8c1eeb01a0d13' 'd83bb344866651d89e218b12dda186a4'\n 'd5b9f593f67c8f4faf2e9811c89c8b4b' '8749f2701bc0c0f07da5b0f23a021dfd'\n 'b63b68b06e1fed8b3fc3e80bba8c65bf' '62f93018cd84cbb5d80ae44117a3715e'\n 'aa03b09ca5b8ddf50b40ba6e52d5834c' '289ded2ce871abef039042610d83585a'\n 'c18bd5105782c65a214580d5233d98ed' '8758fe5323fb1a20a7b6e095e08f349e'\n 'e83b8f1441a5fe8ae9672d604b0e2a48' '3e783e6c9f90369bbeeec4be310c9cd4'\n 'f49bace4aebf2b182adf78db2fdd14d5' '76f37c9d78f07e72173ed56a3ec6c8b9'\n 'e1c38045c8eaaf8077322065f1b21bd7' '9717c7660912995f2f58683eda12ffda'\n '7cd51bd3b79fe604f263877ab1f86bbb' 'ff12d65204da1e384cd77a127bbc4e4e'\n '9f36b2f1c8828c0ca1e224f4186053d3' 'cb09b70a8f9759ccdf6a69032f775a1d'\n 'cae2b05a560b633a05829bdd3462a1f8' 'c95f49b84e1595f2ee3c2506951d7f37'\n '3f7d4fa0f48f7f76e96368f85a4f6979' '67d76386b58c3b6caecac516ce2a2baf'\n '39fc8a154d2e9b9fa54d1d11599c279b' '3695310d520c3c5bd11c1e492b145323'\n '66492fbe99ab5a54626f29516877740c' 'a2f2163a1de814de99445dd5d97c534c'\n '421d56f5cd5a9cb224bb14ecc79b3f86' 'ee77554c98e1c72c92b1a39bd51b36cf'\n '99397d7e5ba458f467c28a14acf76593' 'c6c0dd810e0694b5df2e124fb6a1a063'\n 'a1fdd2da1867bc76a610c0522b875128' 'caef0d00337e8b998f170a93a057a059'\n '6f55e896e19d87f0a204dacd30c2c704' '61a9f258f859f38982b5fba80577b10b'\n 'e92cb9124b03a61eebb98ee87ee79413' 'af09d47987d16be196a5df8d4fdea4e6'\n '3f78f3ad542ec36b07dd0a6c398375fe' '5280d3229cc9d55872b8aa13fc303190'\n '0b72de8f8fd6a6319b227ed353f44749' 'dab50b4e945281fff13cfc36b12618df'\n 'a895b4e9d8f06b19d35a2c34779576bd' '8764ff463bf6c99e64845a52365d118c'\n '6c84b6b7920480e2dfe663148c75e879' '326d56a82e847f51751254b801307282'\n '63bc9b5f48defdcab60bca9b850596d8' '11c577ea68dae4bb79f3066f789389b3'\n '613788b4975b032da59b4bb8c356e9c5']\n\n\n['empty' 'a4ae6efcfaee62fb6da44a9c05753259'\n 'b2508ad6459e8c41495ab2979899c348' ... '87adccbd1ee80dd18bd5f721406b06e1'\n 'f6b17fb36981e3b52418829caa43d5e5' 'fc3fc1cbba4f5ffe01d058c44e7dc0af']\n\n\n['ab96caaba2b7973e63fb0d3d5c5bf8b0' '0f607264fc6318a92b9e13c65db7cd3c'\n '5ba1cf1efeee4f83e91f9c0adc3015e3' ... 'cebcaf7ac39ec759e96386f33ddbf657'\n '4c84bae9092b17425edaa1489c2c6a0f' 'cd54ee67e08e5155e41255fa07ce30be']\n\n\n[2. 0. 3.]\n\n\n['V1809A' 'BLA-AL00' 'PBEM00' ... 'SM-C900F' 'SS2-01' 'HITV300C']\n\n\n['vivo' 'HUAWEI' 'OPPO' ... 'magcomm' 'utouu' 'Verizon']\n\n\n",
      "[2. 5. 6. 3. 0. 4. 7. 1.]\n\n\n[ 4.6000e+04  0.0000e+00  4.6001e+04 -1.0000e+00  4.6003e+04]\n\n\n"
     ],
     "output_type": "stream"
    }
   ],
   "source": [
    "# Adroid ID的MD5值\n",
    "print(traindata['adidmd5'].unique())\n",
    "print('\\n')\n",
    "\n",
    "# imei的MD5值\n",
    "print(traindata['imeimd5'].unique())\n",
    "print('\\n')\n",
    "\n",
    "# idfa的MD5值\n",
    "print(traindata['idfamd5'].unique())\n",
    "print('\\n')\n",
    "\n",
    "# openudid的MD5值\n",
    "print(traindata['openudidmd5'].unique())\n",
    "print('\\n')\n",
    "\n",
    "# mac的MD5值\n",
    "print(traindata['macmd5'].unique())\n",
    "print('\\n')\n",
    "\n",
    "# 设备类型 0 – 未知,1 – PC,2 – 手机, 3– 平板,4– 电视盒,5– 智能电视,6 – 可穿戴设备,7 – 智能家电,8 - 音箱,9 - 智能硬件\n",
    "print(traindata['dvctype'].unique())\n",
    "print('\\n')\n",
    "\n",
    "# 机型\n",
    "print(traindata['model'].unique())\n",
    "print('\\n')\n",
    "\n",
    "# 厂商\n",
    "print(traindata['make'].unique())\n",
    "print('\\n')\n",
    "\n",
    "# 网络类型 0-未知, 1-有线网, 2-WIFI, 3-蜂窝网络未知, 4-2G, 5-3G, 6–4G\n",
    "print(traindata['ntt'].unique())\n",
    "print('\\n')\n",
    "\n",
    "# 运营商 0-未知, 46000-移动, 46001-联通, 46003-电信\n",
    "print(traindata['carrier'].unique())\n",
    "print('\\n')\n",
    "\n"
   ],
   "metadata": {
    "collapsed": false,
    "pycharm": {
     "name": "#%%\n",
     "is_executing": false
    }
   }
  },
  {
   "cell_type": "code",
   "execution_count": 138,
   "outputs": [
    {
     "name": "stdout",
     "text": [
      "['Android' 'android']\n\n\n['android' 'Android']\n\n\n",
      "Index(['sid', 'label', 'pkgname', 'ver', 'adunitshowid', 'mediashowid',\n       'apptype', 'nginxtime', 'ip', 'city', 'province', 'reqrealip',\n       'adidmd5', 'imeimd5', 'idfamd5', 'openudidmd5', 'macmd5', 'dvctype',\n       'model', 'make', 'ntt', 'carrier', 'osv', 'orientation', 'lan', 'h',\n       'w', 'ppi'],\n      dtype='object')\n\n\nIndex(['sid', 'pkgname', 'ver', 'adunitshowid', 'mediashowid', 'apptype',\n       'nginxtime', 'ip', 'city', 'province', 'reqrealip', 'adidmd5',\n       'imeimd5', 'idfamd5', 'openudidmd5', 'macmd5', 'dvctype', 'model',\n       'make', 'ntt', 'carrier', 'osv', 'orientation', 'lan', 'h', 'w', 'ppi'],\n      dtype='object')\n\n\n"
     ],
     "output_type": "stream"
    }
   ],
   "source": [
    "# 操作系统 : Android, iOS\n",
    "print(traindata['os'].unique())\n",
    "print('\\n')\n",
    "\n",
    "# 操作系统 \n",
    "print(testdata_feature['os'].unique())\n",
    "print('\\n')\n",
    "\n",
    "def deal_os(df, **params):\n",
    "    \"\"\"\n",
    "    处理操作系统\n",
    "    :param df: \n",
    "    :param params: \n",
    "    :return: \n",
    "    \"\"\"\n",
    "    if 'os' in df.columns:\n",
    "        # 先将所有值转化为小写\n",
    "        df['os'] = df['os'].apply(lambda x: x.lower())\n",
    "        # 如果所有值都相同，则剔除\n",
    "        if len(set(df['os'])) is 1:\n",
    "            del df['os']\n",
    "    \n",
    "    return df\n",
    "    \n",
    "traindata = deal_os(traindata)\n",
    "\n",
    "# 操作系统版本\n",
    "print(traindata.columns)\n",
    "print('\\n')\n",
    "\n",
    "testdata_feature = deal_os(testdata_feature)\n",
    "\n",
    "# 操作系统版本\n",
    "print(testdata_feature.columns)\n",
    "print('\\n')\n",
    "\n",
    "\n",
    "\n"
   ],
   "metadata": {
    "collapsed": false,
    "pycharm": {
     "name": "#%%\n",
     "is_executing": false
    }
   }
  },
  {
   "cell_type": "code",
   "execution_count": 139,
   "outputs": [
    {
     "name": "stdout",
     "text": [
      "['8.1.0' 'Android_9' '7.0' '9' '6.0.1' '9.0.0' '5.1' '8.1' '8.0.0' '5.1.1'\n '7.9.2' '6.0' '2.3' '4.4.4' '7.1.2' '7.1.1' 'Android_8.1.0' 'Android_5.1'\n '9.0' '7.8.2' '8.0.1' '5.0.2' '7.9.0' '7.1' '3.9.0' 'Android_8.0.0'\n '6.0.0' nan '3.8.6' '7.8.9' '4.4.2' '4.1.2' '4.4W' '3.7.6' '5.1.0' '5.0'\n '4.1' '4.3' '8.0' '4.4' 'Android_5.1.1' 'Android_7.1.2' '3.8.0' '7.0.0'\n '7.8.0' '7.8.4' 'Android_7.0' 'Android_7.1.1' 'Android_6.0.1' '4.3.0'\n '4.4.5' '4.2.2' '21000' '7.7.7' '3.8.4' '7.8.7' '7.6.7' '4.2.1' '7.2.1'\n '8' '7.6.9' 'Android_5.0.2' '7.7.0' 'Android_5.0' '4.0.4' '7.7.3' '7.7.5'\n '6.2.1' '5.0.0' '3.8.3' '5' '7.7.2' '7.8.6' 'Android_6.0' '5.0.1' '7.8.5'\n '7.8.8' '2.3.4' 'Android_4.4.4' '21100' '7' 'Android_4.3' '7.1.3' '6.1.0'\n '6' '4.2' '4.1.1' '7.6.8' '6.0_23' 'Android_4.4.2' '7.6.4' '4.4.3'\n '7.6.6' '3.7.8' '7.7.4' '4.0.3' '2.3.7' '6.1.2' '6.1' '4.4.0' '7.1.0'\n '3.1.1' '3.2' 'Android_5.0.1' '6.0.1_19' '4.3.3' '4.0' '2.2.3' '7930'\n '3.0.3' 'Android_4.2.1' '2.3.6' 'Android_qq83520489' '5.3'\n 'Android_4.1.2' '6.0.4' '71200' '2.3.1' 'Android_4.2.2' '2.1.2'\n 'Android_4.1.1' '9.1' 'Android 6.0' '6.1.0-RS-20190305.1125' '2.9.2'\n '6.0.1_22' '5.1_22' '5.2.0' '2.0.1' '3.2.0-FL2-20180726.9015' '5.0.3'\n '5.3.0' '1.0.0' '4.3.2' 'Android_7.1.0' '9.1.0' '4.4.6' 'Android_4.0.4'\n 'Android_7.0.0' '11' '5.3.0-FL2-20180717.9010' 'Android 4.2.9' '12.0'\n 'Android 7.1' '7910' '2.3.5' '71300' '4.0.2' '8.0.2' 'Android'\n 'G-UI-5.0.2' '9.0.5' '6.0.2' '2.2.2' '6.3' '9.9.9' '4.2.3.2'\n 'f073b_changxiang_v01_b1b8_20180915' '5.2' 'Android 4.3.1' '2.3.3'\n '7.3.1' '10.3.3' '7.4.4' 'Android 5.12' 'Android 4.0.3' '4.4.2_19'\n 'Android_4.4.3' '5.0_21' '5,0' '6.0 十核2.0G_HD' '4.3.1'\n '5.1.1-F-20180719.9007' '7920' 'GIONEE_YNGA' '5.5.0-FL2-20180716.9011'\n '2.1' '4' '5.1.1_22' '%E6%B1%9F%E7%81%B5OS+5.0'\n 'Android_3.2.0-FL2-20180726.9015']\n\n\n"
     ],
     "output_type": "stream"
    }
   ],
   "source": [
    "# 操作系统版本\n",
    "print(traindata['osv'].unique())\n",
    "print('\\n')\n",
    "\n",
    "\n"
   ],
   "metadata": {
    "collapsed": false,
    "pycharm": {
     "name": "#%%\n",
     "is_executing": false
    }
   }
  },
  {
   "cell_type": "code",
   "execution_count": null,
   "outputs": [
    {
     "name": "stdout",
     "text": [
      "[ 0.  1. 90.  2.]\n\n\n[ 0.  1. 90.  2.]\n\n\n",
      "(1, 28)\n",
      "(0, 27)\n",
      "(110, 28)\n"
     ],
     "output_type": "stream"
    },
    {
     "name": "stderr",
     "text": [
      "/home/wjunneng/Python/anaconda3/envs/lightgbm/lib/python3.6/site-packages/ipykernel_launcher.py:13: UserWarning: Boolean Series key will be reindexed to match DataFrame index.\n  del sys.path[0]\n",
      "/home/wjunneng/Python/anaconda3/envs/lightgbm/lib/python3.6/site-packages/ipykernel_launcher.py:19: UserWarning: Boolean Series key will be reindexed to match DataFrame index.\n"
     ],
     "output_type": "stream"
    }
   ],
   "source": [
    "# 横竖屏:0竖屏，1横屏\n",
    "print(traindata['orientation'].unique())\n",
    "print('\\n')\n",
    "\n",
    "# 横竖屏:0竖屏，1横屏\n",
    "print(testdata_feature['orientation'].unique())\n",
    "print('\\n')\n",
    "\n",
    "# train 中orientation为90的仅有一条数据为0，其余结为1 \n",
    "\n",
    "# (1, 28)\n",
    "train_2 = traindata[traindata.orientation.astype(int) == 2]\n",
    "print(train_2.shape)\n",
    "# (0, 27)\n",
    "test_2 = testdata_feature[traindata.orientation.astype(int) == 2] \n",
    "print(test_2.shape)\n",
    "# (110, 28)\n",
    "train_90 = traindata[traindata.orientation.astype(int) == 90] \n",
    "print(train_90.shape)\n",
    "# (15, 27)\n",
    "test_90 = testdata_feature[traindata.orientation.astype(int) == 90] \n",
    "print(test_90.shape)\n",
    "\n",
    "def deal_orientation(df, **params):\n",
    "    \"\"\"\n",
    "    剔除非0和1的数据 【即非横/竖屏的数据】\n",
    "    :param df: \n",
    "    :param params: \n",
    "    :return: \n",
    "    \"\"\"\n",
    "    df = df[(df['orientation'].astype(int) == 0) | (df['orientation'].astype(int) == 1) | (df['orientation'].astype(int) == 90)]\n",
    "    \n",
    "    return df\n",
    "\n",
    "traindata = deal_orientation(traindata)\n",
    "testdata_feature = deal_orientation(testdata_feature)\n",
    "\n",
    "# 横竖屏:0竖屏，1横屏\n",
    "print(traindata['orientation'].unique())\n",
    "print('\\n')\n",
    "\n",
    "# 横竖屏:0竖屏，1横屏\n",
    "print(testdata_feature['orientation'].unique())\n",
    "print('\\n')\n",
    "\n"
   ],
   "metadata": {
    "collapsed": false,
    "pycharm": {
     "name": "#%%\n",
     "is_executing": true
    }
   }
  },
  {
   "cell_type": "code",
   "execution_count": 131,
   "outputs": [
    {
     "name": "stdout",
     "text": [
      "['zh-CN' nan 'Zh-CN' 'zh-cn' 'cn' 'zh_CN' 'zh' 'ZH' 'en' 'CN' 'tw' 'en-GB'\n 'zh_CN_#Hans' 'ja' 'en-US' 'ko' 'zh-TW' 'it' 'zh-HK' 'en_US' 'th-TH'\n 'zh-US' 'mi' 'TW' 'zh_HK_#Hant' 'in_ID' 'de' 'zh-MO' 'en_GB' 'fr' 'KR'\n 'zh-' 'zh_TW']\n\n\n[2.340e+03 1.080e+03 2.196e+03 0.000e+00 2.244e+03 7.600e+02 1.280e+03\n 7.470e+02 1.520e+03 2.031e+03 1.920e+03 2.136e+03 2.061e+03 6.400e+02\n 2.129e+03 2.248e+03 2.038e+03 2.200e+03 2.070e+03 1.812e+03 8.300e+02\n 2.280e+03 1.794e+03 2.034e+03 7.800e+02 6.760e+02 2.137e+03 7.200e+02\n 1.808e+03 2.316e+03 8.180e+02 1.184e+03 1.300e+01 2.222e+03 2.064e+03\n 2.016e+03 1.424e+03 6.990e+02 2.128e+03 2.310e+03 1.800e+03 8.540e+02\n 1.493e+03 2.214e+03 5.690e+02 2.130e+03 2.040e+03 1.440e+03 7.480e+02\n 2.560e+03 9.600e+02 6.940e+02 8.160e+02 7.700e+02 1.208e+03 2.030e+03\n 1.540e+03 2.120e+03 2.160e+03 1.360e+03 1.371e+03 4.800e+02 1.356e+03\n 1.560e+03 2.201e+03 6.650e+02 1.472e+03 2.220e+03 8.640e+02 1.344e+03\n 2.159e+03 1.439e+03 3.120e+03 6.840e+02 5.920e+02 2.138e+03 1.359e+03\n 3.200e+02 2.265e+03 9.640e+02 7.860e+02 2.960e+03 2.163e+03 1.214e+03\n 2.240e+03 2.394e+03 1.788e+03 1.792e+03 2.406e+03 2.326e+03 2.250e+03\n 2.075e+03 1.776e+03 1.436e+03 1.192e+03 7.730e+02 1.460e+03 1.152e+03\n 2.004e+03 2.208e+03 1.200e+03 2.267e+03 1.496e+03 2.416e+03 2.190e+03\n 2.154e+03 8.920e+02 6.640e+02 2.009e+03 2.046e+03 5.400e+02 9.000e+02\n 2.131e+03 2.218e+03 2.060e+03 2.181e+03 1.358e+03 7.330e+02 8.510e+02\n 2.117e+03 2.124e+03 6.360e+02 1.806e+03 2.924e+03 2.198e+03 1.998e+03\n 1.441e+03 2.768e+03 1.467e+03 2.252e+03 6.850e+02 2.145e+03 1.116e+03\n 9.760e+02 2.255e+03 8.000e+02 8.880e+02 1.217e+03 7.710e+02 5.660e+02\n 2.135e+03 1.374e+03 6.000e+02 2.260e+03 1.201e+03 5.300e+02 8.460e+02\n 1.801e+03 5.650e+02 2.032e+03 1.122e+03 7.720e+02 2.242e+03 6.860e+02\n 2.076e+03 1.824e+03 5.700e+02 1.809e+03 2.259e+03 1.506e+03 1.782e+03\n 1.820e+03 2.094e+03 2.107e+03 2.170e+03 2.141e+03 2.029e+03 1.821e+03\n 7.820e+02 3.040e+03 2.083e+03 1.361e+03 1.000e+02 6.770e+02 1.438e+03\n 1.479e+03 1.418e+03 2.068e+03 2.116e+03 1.480e+03 7.400e+02 2.140e+03\n 4.200e+02 2.408e+03 1.196e+03 2.312e+03 2.412e+03 2.336e+03 8.690e+02\n 1.500e+01 2.028e+03 7.320e+02 6.620e+02 9.180e+02 2.098e+03 1.500e+03\n 1.373e+03 2.037e+03 1.810e+03 2.428e+03 8.280e+02 1.422e+03 2.150e+03\n 2.139e+03 2.039e+03 2.048e+03 2.466e+03 2.152e+03 2.320e+03 1.376e+03\n 1.521e+03 4.260e+02 7.550e+02 2.792e+03 7.520e+02 2.099e+03 1.200e+01\n 7.370e+02 1.400e+02 2.041e+03 2.223e+03 1.798e+03 7.300e+02 2.102e+03\n 2.232e+03 2.065e+03 2.392e+03 2.090e+03 2.385e+03 7.390e+02 1.962e+03\n 2.027e+03 2.460e+03 1.582e+03 1.523e+03 1.481e+03 1.830e+03 1.206e+03\n 1.600e+01 5.000e+02 1.795e+03 1.793e+03 1.848e+03 2.055e+03 3.600e+02\n 7.110e+02 2.056e+03 2.268e+03 1.404e+03 8.950e+02 6.780e+02 1.416e+03\n 1.419e+03 1.512e+03 2.118e+03 1.546e+03 7.690e+02 2.210e+03 2.194e+03\n 2.400e+03 2.281e+03 7.490e+02 1.008e+03 1.458e+03 2.374e+03 7.410e+02\n 2.114e+03 2.058e+03 7.350e+02 5.720e+02 5.670e+02 2.231e+03 1.852e+03\n 8.220e+02 6.670e+02 1.194e+03 5.250e+02 2.219e+03 2.172e+03 1.836e+03\n 7.530e+02 1.482e+03 7.360e+02 3.020e+03 9.960e+02 5.680e+02 9.240e+02\n 1.510e+03 1.501e+03 5.130e+02 1.444e+03 2.044e+03 2.246e+03 2.050e+03\n 1.205e+03 2.175e+03 2.261e+03 6.720e+02 2.084e+03 7.500e+02 1.372e+03\n 2.147e+03 2.276e+03 2.052e+03 1.024e+03 1.197e+03 2.277e+03 6.040e+02\n 6.560e+02 7.210e+02 1.369e+03 8.030e+02 1.336e+03 6.580e+02 2.049e+03\n 2.400e+02 7.640e+02 1.734e+03 1.216e+03 1.900e+01 5.050e+02 1.000e+01\n 8.480e+02 1.459e+03 1.380e+03 2.158e+03 2.372e+03 1.541e+03 1.825e+03\n 5.220e+02 1.100e+01 2.033e+03 3.920e+02 1.600e+03 6.970e+02 7.940e+02\n 7.380e+02 1.800e+01 5.870e+02 6.800e+02 2.078e+03 4.320e+02 1.857e+03\n 5.170e+02 6.120e+02 1.400e+01 2.379e+03 1.332e+03 7.420e+02 5.980e+02\n 1.232e+03 6.830e+02 2.427e+03 2.057e+03 6.540e+02 6.050e+02 2.000e+01\n 1.368e+03 1.465e+03 8.970e+02 2.115e+03 7.060e+02 2.112e+03 1.210e+03\n 7.560e+02 1.244e+03 1.620e+03 1.364e+03 5.120e+02 7.650e+02 1.464e+03\n 1.866e+03 1.768e+03 1.952e+03 2.720e+03 7.170e+02 2.287e+03 6.600e+02\n 2.393e+03 5.340e+02 2.880e+03 1.919e+03 8.800e+02 7.740e+02 1.324e+03\n 2.452e+03 7.050e+02 1.027e+03 1.026e+03 8.520e+02 6.900e+02 1.700e+01\n 1.740e+02 9.280e+02 2.134e+03 1.350e+03 2.258e+03 1.425e+03 1.528e+03\n 2.300e+01 1.488e+03 7.180e+02 1.354e+03 1.789e+03 1.128e+03 2.900e+03\n 1.370e+03 6.750e+02 9.070e+02 1.223e+03 7.850e+02 1.114e+03 8.560e+02\n 6.180e+02 8.000e+00 3.045e+03 1.407e+03 2.088e+03 6.410e+02 9.630e+02\n 9.000e+00 2.221e+03 2.167e+03 7.120e+02 7.160e+02 7.310e+02 1.740e+03\n 8.600e+02 2.434e+03 1.386e+03 1.367e+03 1.797e+03 1.420e+03 4.500e+02\n 3.180e+03 2.086e+03 2.123e+03 6.550e+02 7.000e+00 1.758e+03 2.047e+03\n 5.320e+02 2.100e+01 2.907e+03 2.142e+03 1.394e+03 2.146e+03 1.362e+03\n 4.940e+02 2.264e+03 1.803e+03 9.780e+02 2.373e+03 1.204e+03 1.023e+03\n 1.410e+03 7.090e+02 1.536e+03 2.072e+03 1.503e+03 2.334e+03 6.090e+02\n 1.172e+03 7.040e+02 8.530e+02 7.440e+02 9.150e+02 6.920e+02 4.400e+02\n 6.430e+02 2.678e+03 1.212e+03 9.510e+02 2.314e+03 5.600e+02 7.760e+02\n 8.740e+02 2.079e+03 7.190e+02 2.155e+03 5.590e+02 1.190e+03 3.380e+03\n 8.910e+02 1.133e+03 4.720e+02 1.195e+03 1.295e+03 2.173e+03 8.200e+02\n 6.030e+02 2.535e+03 2.840e+02 1.544e+03 1.474e+03 7.680e+02 3.440e+02\n 7.540e+02 2.111e+03 5.260e+02 2.368e+03 1.396e+03 1.905e+03 1.226e+03\n 6.680e+02 1.929e+03 1.854e+03 1.778e+03 1.442e+03 1.345e+03 7.970e+02\n 1.186e+03 2.012e+03 8.490e+02 8.230e+02 5.960e+02 1.476e+03 2.191e+03\n 2.043e+03 1.193e+03 2.024e+03 1.839e+03 2.008e+03 2.106e+03 7.900e+02\n 4.830e+02 6.630e+02 9.060e+02 1.430e+03 1.339e+03 2.020e+03 1.851e+03\n 7.030e+02 2.157e+03 2.744e+03 2.230e+03 2.375e+03 2.712e+03 8.940e+02\n 1.504e+03 4.580e+02 2.387e+03 2.166e+03 4.080e+02 7.830e+02 1.790e+03\n 2.200e+01 2.148e+03 1.160e+03 9.360e+02 1.048e+03 6.150e+02 6.820e+02\n 3.690e+02 5.820e+02 1.478e+03 2.025e+03 6.790e+02 1.815e+03 2.127e+03\n 2.520e+03 2.067e+03 4.000e+02 2.770e+02 9.800e+02 6.190e+02 6.480e+02\n 4.540e+02 1.813e+03 6.370e+02 7.570e+02 2.861e+03 1.968e+03 6.570e+02\n 5.330e+02 1.085e+03 5.280e+02 2.010e+03 9.110e+02 1.539e+03 9.290e+02\n 2.436e+03 2.000e+03 6.700e+02 1.405e+03 8.450e+02 8.430e+02 6.880e+02\n 1.449e+03 7.240e+02 1.220e+03 5.240e+02 2.948e+03 6.980e+02 6.060e+02\n 5.640e+02 2.022e+03 8.390e+02 1.934e+03 5.060e+02 2.014e+03 7.450e+02\n 6.470e+02 1.320e+02 2.051e+03 1.491e+03 1.755e+03 3.400e+02 6.320e+02\n 1.353e+03 2.891e+03 4.700e+02 6.490e+02 1.207e+03 2.062e+03 1.665e+03\n 1.198e+03 6.590e+02 1.466e+03 1.519e+03 1.384e+03 2.074e+03 5.290e+02\n 4.520e+02 1.321e+03 1.454e+03 2.169e+03 2.730e+03 1.099e+03 2.355e+03\n 6.710e+02 2.178e+03 1.379e+03 2.059e+03 6.660e+02 2.184e+03 9.420e+02\n 1.426e+03 1.230e+03 2.110e+03 1.154e+03 1.525e+03 9.130e+02 1.357e+03\n 6.890e+02 7.910e+02 2.860e+03 7.280e+02 1.680e+03 5.890e+02 2.122e+03\n 8.820e+02 2.085e+03 6.500e+02 7.000e+02 4.480e+02 1.145e+03 2.042e+03\n 2.376e+03 1.137e+03 4.460e+02 9.700e+02 5.770e+02 7.460e+02 1.104e+03\n 5.270e+02 2.071e+03 2.344e+03 2.820e+02 9.120e+02 2.045e+03 7.510e+02\n 2.103e+03 1.347e+03 6.870e+02 1.098e+03 8.710e+02 9.010e+02 6.460e+02\n 4.930e+02 8.380e+02 1.719e+03 7.010e+02 6.100e+02 2.266e+03 6.020e+02\n 1.770e+03 8.110e+02 1.038e+03 9.260e+02 1.150e+03 2.238e+03 9.980e+02\n 6.160e+02 2.217e+03 1.018e+03 2.464e+03 3.790e+02 2.003e+03 6.510e+02\n 2.168e+03 9.490e+02 1.348e+03 1.239e+03 2.898e+03 2.207e+03 2.069e+03\n 1.002e+03 1.375e+03 8.050e+02 2.197e+03 2.189e+03 5.913e+03 5.030e+02\n 1.845e+03 6.000e+01 1.816e+03 1.092e+03 9.170e+02 1.725e+03 1.134e+03\n 4.850e+02 1.953e+03 2.860e+02 7.250e+02 1.865e+03 1.402e+03 5.520e+02\n 1.841e+03 5.190e+02 1.222e+03 2.087e+03 1.389e+03 2.800e+02 2.696e+03\n 7.780e+02 2.179e+03 4.660e+02 2.013e+03 2.360e+03 1.312e+03 4.440e+02\n 5.180e+02 1.423e+03 1.434e+03 9.500e+02 5.360e+02 1.590e+03 1.340e+03\n 1.174e+03 1.001e+03 2.108e+03 1.366e+03 6.075e+03 3.075e+03 1.036e+03\n 1.847e+03 4.970e+02 2.426e+03 4.960e+02 8.770e+02 2.454e+03 9.330e+02\n 6.420e+02 9.620e+02 2.319e+03 1.135e+03 3.930e+02 8.790e+02 2.405e+03\n 5.040e+02 2.910e+03 2.628e+03 1.382e+03 9.680e+02 8.900e+02 1.218e+03\n 1.352e+03 1.992e+03 1.980e+03 1.735e+03 2.000e+02 2.091e+03 2.224e+03\n 7.340e+02 1.072e+03 7.140e+02 6.110e+02 2.193e+03 1.935e+03 9.310e+02\n 2.892e+03 5.540e+02 6.530e+02 6.280e+02 1.498e+03 6.610e+02 1.188e+03\n 1.060e+03 1.035e+03 2.706e+03 1.209e+03 2.081e+03 2.203e+03 6.340e+02\n 1.728e+03 1.722e+03 4.920e+02 4.980e+02 5.620e+02 3.388e+03 9.730e+02\n 4.932e+03 4.736e+03 8.610e+02 5.976e+03 1.053e+03 8.832e+03 6.240e+02\n 1.043e+03 1.319e+03 7.020e+02 2.180e+03 1.757e+03 2.487e+03 2.382e+03\n 4.950e+02 2.205e+03 8.100e+02 6.024e+03 4.560e+02 4.484e+03 5.188e+03\n 1.856e+03 1.448e+03 1.556e+03 5.408e+03 1.390e+03 2.737e+03 1.461e+03\n 1.308e+03 1.014e+03 1.355e+03 4.410e+02 4.498e+03 4.616e+03 2.018e+03\n 1.807e+03 9.690e+02 2.188e+03 1.033e+03 4.224e+03 1.000e+03 8.440e+02\n 2.371e+03 8.960e+02 1.945e+03 1.062e+03 2.153e+03 6.432e+03 1.452e+03\n 3.820e+02 2.164e+03 1.318e+03 1.213e+03 2.899e+03 8.310e+02 6.080e+02\n 7.220e+02 8.040e+02 2.461e+03 1.045e+03 1.487e+03 1.524e+03 1.509e+03\n 1.799e+03 8.488e+03 9.024e+03 1.120e+03 9.160e+02 2.472e+03 8.544e+03\n 2.672e+03 3.000e+02 5.500e+02 4.710e+02 1.178e+03 8.350e+02 3.312e+03\n 9.210e+02 8.724e+03 1.185e+03 1.378e+03 4.950e+03 1.860e+03 2.401e+03\n 1.986e+03 2.476e+03 4.680e+02 2.984e+03 2.253e+03 9.300e+02 9.750e+02\n 8.705e+03 2.920e+02 1.215e+03 6.200e+02 5.580e+02 3.072e+03 5.210e+02\n 6.006e+03 2.161e+03 8.598e+03 8.260e+02 2.424e+03 8.738e+03 6.350e+02\n 1.015e+03 8.512e+03 1.284e+03 6.330e+02 1.051e+03 8.890e+02 9.370e+02\n 1.166e+03 1.180e+03 5.570e+02 6.520e+02 1.335e+03 8.528e+03 1.969e+03\n 8.190e+02 2.229e+03 4.840e+02 2.390e+02 5.310e+02 2.330e+02 6.690e+02\n 9.820e+02 1.832e+03 2.845e+03 2.699e+03 7.880e+02 2.239e+03 1.413e+03\n 5.760e+02 1.518e+03 1.000e+00 4.608e+03 5.156e+03 7.230e+02 7.150e+02]\n\n\n[1080. 2040.    0.  360.  720.  393.  320. 2154. 1280. 2280. 2340. 2190.\n 1806. 1792. 1920. 2128.  480. 2196. 2130. 1440.  540. 2255. 1794. 1560.\n 1800. 1436.  432. 1808.  600. 2214. 2160.  640. 2016. 1152.  376. 1520.\n 2116. 1460. 1536. 2907. 2265. 2136.  412.  960. 1600. 2038. 1424. 2137.\n 2267.  768.  800.  854. 1200. 2034. 2159. 2201. 1812. 1438. 2030. 1809.\n 2220. 2252. 2032.  810.  945.  420. 2322. 2068. 2070.  424. 1464.  240.\n 2152. 1356. 1078.  210. 2061. 2250. 2056. 2244. 1444. 2223. 2094. 2408.\n 2037. 2031.  346. 1376.  780. 1361. 2060. 1242. 2222. 2560. 1184.  353.\n  361. 2049. 2120. 1467. 1385. 1344. 2792. 2064. 2075. 1604. 2406.  700.\n  392. 2163. 2088.  340. 1360. 1024.  411. 1788. 1206. 1196.  785. 1476.\n 2316.  331. 1496. 2029. 2076. 2416. 2428. 1208. 1820. 2466. 1506. 1067.\n 2058. 1371.  288. 2208. 1370. 2336. 2200. 2129. 1803.  377.  384. 1358.\n  610. 1836.  375. 2139. 1776. 1197. 2259.  363. 1425.  750. 2219. 2960.\n  309. 2210. 2312. 2098. 2248.  529. 2028. 2218. 2141. 2150. 2157. 1540.\n 2135. 1418. 2900. 2115. 1532. 2172. 1128.  864. 2191.  675. 1053. 2260.\n 1969. 2175. 3020.  737.  534. 1768.  611. 2240.  440. 2050.  560. 2768.\n  423. 1185. 1644. 2090. 1233. 1380. 2198.  712. 1493. 1501. 2412. 2231.\n 2114. 1368.  413. 1201.  580. 1480. 3120.  936. 2124. 1439. 2145. 2460.\n 2134. 1824. 1952.  400. 2012.  408. 2138. 2268.  760.  300.  458. 2123.\n 2181. 1503. 2052. 1352. 2156. 1096. 1135.  678. 2400. 1404.  853.  533.\n  569.  180. 2042.  576.  601. 2140.  421. 1125.  550.  772. 1353. 2924.\n  444.  782. 2033. 2170. 2392. 2261.  239. 1064. 1369. 1465. 1778. 2310.\n  132.  752.  900. 1463. 1419. 2221.  150. 1384. 1374. 2067. 1830. 2232.\n 2147. 1092.  570. 2334. 2048. 1479.  455. 1050. 2004. 1359. 2041. 1083.\n 2079.  972. 2948. 1129.  912. 1357.  394. 1192.  705.  686.  364.  683.\n 1441.  359. 1386. 1079. 1491. 2083.  454.  486.  470.  213.  449. 1919.\n 2230. 1793. 1913. 1031. 1500.  463. 2880. 1839.   50. 1512.  395. 1133.\n  598. 1482.  602. 1104. 2107. 2229.  679. 1216.  746. 1998. 2178. 1204.\n  672. 1396.  321. 2142. 2246. 2452. 2860.  350.  786. 1478.  728. 1012.\n  450.  822.  481. 1217. 2158.  512.  200. 2184. 1474.  802.  582. 2117.\n  434.  415.  341. 1801. 1456.  342.  732. 2086.  975. 1692.  461. 1568.\n 4224. 1510.  371. 1599. 1354. 1631. 1312.  744. 1423. 1088. 1054. 1350.\n  938. 8544. 2217. 1103. 5174.  504. 1032.  851. 8832. 1448. 1112. 1789.\n  624. 2039. 2118.  748. 4736.  552.  351.  381. 2476. 4932. 2102.  220.\n 1214.  708. 2065.  500. 5408. 1728. 8537. 1332. 1205. 2112.  391. 1434.\n 1466. 1442. 2197. 5156.  738. 1450. 1017. 1099. 9024.  518. 1422. 2047.\n 2845. 1271. 1035. 1815. 1366.  685. 2149. 1225. 2368.]\n\n\n[  3.   0. 320. 480. 640.   2. 326. 420. 440. 160.   4. 240. 540.   1.\n 560. 400. 230. 408. 374. 200. 250. 403. 360. 272. 500. 220. 443. 300.\n 120. 128. 265. 460. 493. 110. 380. 140. 411. 720. 322. 347. 270. 278.\n 264. 279. 280. 293. 600. 210. 238. 371. 192. 425. 213. 490.   5. 283.\n 399. 100. 273. 432. 282. 113. 404. 393. 115. 319. 269. 402. 356. 423.\n 285. 288.  20. 421. 612. 544. 436. 333.  60.  40. 260. 266. 376. 236.\n 180. 295. 422. 308.  96. 267. 369. 392. 389. 277. 304. 233. 384. 292.\n 306. 366. 466. 433. 409. 454. 461. 666. 467. 299. 375. 246. 430. 281.\n 268. 401. 508.]\n\n\n"
     ],
     "output_type": "stream"
    }
   ],
   "source": [
    "# 语言\n",
    "print(traindata['lan'].unique())\n",
    "print('\\n')\n",
    "\n",
    "# 设备高\n",
    "print(traindata['h'].unique())\n",
    "print('\\n')\n",
    "\n",
    "# 设备宽\n",
    "print(traindata['w'].unique())\n",
    "print('\\n')\n",
    "\n",
    "# 屏幕密度\n",
    "print(traindata['ppi'].unique())\n",
    "print('\\n')"
   ],
   "metadata": {
    "collapsed": false,
    "pycharm": {
     "name": "#%%\n",
     "is_executing": false
    }
   }
  },
  {
   "cell_type": "code",
   "execution_count": null,
   "outputs": [],
   "source": [
    "\n"
   ],
   "metadata": {
    "collapsed": false,
    "pycharm": {
     "name": "#%%\n"
    }
   }
  }
 ],
 "metadata": {
  "language_info": {
   "codemirror_mode": {
    "name": "ipython",
    "version": 2
   },
   "file_extension": ".py",
   "mimetype": "text/x-python",
   "name": "python",
   "nbconvert_exporter": "python",
   "pygments_lexer": "ipython2",
   "version": "2.7.6"
  },
  "kernelspec": {
   "name": "pycharm-e50da876",
   "language": "python",
   "display_name": "PyCharm (ForecastScore)"
  },
  "pycharm": {
   "stem_cell": {
    "cell_type": "raw",
    "source": [],
    "metadata": {
     "collapsed": false
    }
   }
  }
 },
 "nbformat": 4,
 "nbformat_minor": 0
}